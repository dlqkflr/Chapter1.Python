{
 "cells": [
  {
   "cell_type": "code",
   "execution_count": 2,
   "metadata": {},
   "outputs": [
    {
     "name": "stdout",
     "output_type": "stream",
     "text": [
      "dlqkflr\n"
     ]
    }
   ],
   "source": [
    "print('dlqkflr')"
   ]
  },
  {
   "cell_type": "code",
   "execution_count": 3,
   "metadata": {},
   "outputs": [
    {
     "name": "stdout",
     "output_type": "stream",
     "text": [
      "300\n"
     ]
    }
   ],
   "source": [
    "a = 100\n",
    "b = 200\n",
    "result = a + b\n",
    "print(result)"
   ]
  },
  {
   "cell_type": "code",
   "execution_count": 5,
   "metadata": {},
   "outputs": [
    {
     "name": "stdout",
     "output_type": "stream",
     "text": [
      "<class 'int'>\n",
      "<class 'int'>\n"
     ]
    },
    {
     "data": {
      "text/plain": [
       "int"
      ]
     },
     "execution_count": 5,
     "metadata": {},
     "output_type": "execute_result"
    }
   ],
   "source": [
    "print(type(a))\n",
    "print(type(b))\n",
    "type(result)"
   ]
  },
  {
   "cell_type": "code",
   "execution_count": 7,
   "metadata": {},
   "outputs": [
    {
     "name": "stdout",
     "output_type": "stream",
     "text": [
      "True\n"
     ]
    }
   ],
   "source": [
    "print(isinstance(a, int))"
   ]
  },
  {
   "cell_type": "code",
   "execution_count": 8,
   "metadata": {},
   "outputs": [
    {
     "name": "stdout",
     "output_type": "stream",
     "text": [
      "<class 'float'>\n"
     ]
    }
   ],
   "source": [
    "a = 5.78\n",
    "print(type(a))"
   ]
  },
  {
   "cell_type": "code",
   "execution_count": 9,
   "metadata": {},
   "outputs": [
    {
     "name": "stdout",
     "output_type": "stream",
     "text": [
      "300000.0\n"
     ]
    }
   ],
   "source": [
    "c = 3e5\n",
    "print(c)"
   ]
  },
  {
   "cell_type": "code",
   "execution_count": 10,
   "metadata": {},
   "outputs": [
    {
     "name": "stdout",
     "output_type": "stream",
     "text": [
      "-0.0004\n"
     ]
    }
   ],
   "source": [
    "d = -4e-4\n",
    "print(d)"
   ]
  },
  {
   "cell_type": "code",
   "execution_count": 13,
   "metadata": {
    "scrolled": true
   },
   "outputs": [
    {
     "name": "stdout",
     "output_type": "stream",
     "text": [
      "kfc먹고싶다\n"
     ]
    }
   ],
   "source": [
    "efg = 'kfc먹고싶다'\n",
    "print(efg)"
   ]
  },
  {
   "cell_type": "code",
   "execution_count": 6,
   "metadata": {},
   "outputs": [
    {
     "name": "stdout",
     "output_type": "stream",
     "text": [
      "비밀번호를 입력하여 주십시오.1234\n",
      "환영합니다. 어서오십시오\n"
     ]
    }
   ],
   "source": [
    "# password = 1234 /  입력이 같으면 (환영합니다.) 틀리면 (비밀번호가 틀립니다.)\n",
    "\n",
    "exm1= int(input('비밀번호를 입력하여 주십시오.'))\n",
    "\n",
    "if exm1 == 1234 :\n",
    "    print('환영합니다. 어서오십시오')\n",
    "else :\n",
    "    print('죄송합니다. 비밀번호가 틀립니다.')"
   ]
  },
  {
   "cell_type": "code",
   "execution_count": 1,
   "metadata": {},
   "outputs": [
    {
     "name": "stdout",
     "output_type": "stream",
     "text": [
      "비밀번호를 입력해주세요:1234\n",
      "환영합니다\n"
     ]
    }
   ],
   "source": [
    "password = 1234\n",
    "\n",
    "ps = int(input('비밀번호를 입력해주세요:'))\n",
    "\n",
    "if password == ps :\n",
    "    print('환영합니다')\n",
    "else :\n",
    "    print('죄송합니다. 비밀번호가 틀립니다.')\n"
   ]
  },
  {
   "cell_type": "code",
   "execution_count": 2,
   "metadata": {},
   "outputs": [
    {
     "name": "stdout",
     "output_type": "stream",
     "text": [
      "gg\n"
     ]
    }
   ],
   "source": [
    "print('gg')"
   ]
  },
  {
   "cell_type": "code",
   "execution_count": 4,
   "metadata": {},
   "outputs": [
    {
     "name": "stdout",
     "output_type": "stream",
     "text": [
      "점수를 입력해주세요:87\n",
      "귀하의 학점은 B입니다.\n"
     ]
    }
   ],
   "source": [
    "score = int(input('점수를 입력해주세요:'))\n",
    "\n",
    "if score >= 90 :\n",
    "    print('귀하의 학점은 A입니다.')\n",
    "elif score >= 80 :\n",
    "    print('귀하의 학점은 B입니다.')\n",
    "elif score >= 70 :\n",
    "    print('귀하의 학점은 C입니다.')\n",
    "else :\n",
    "    print('귀하의 학점은 D입니다.')\n",
    "   "
   ]
  },
  {
   "cell_type": "code",
   "execution_count": 6,
   "metadata": {},
   "outputs": [
    {
     "name": "stdout",
     "output_type": "stream",
     "text": [
      "이름을 입력하여 주세요:Bob\n",
      "0\n"
     ]
    }
   ],
   "source": [
    "names = {'Mary':12, 'Jane':25, 'Tom':20 }\n",
    "\n",
    "name = input('이름을 입력하여 주세요:')\n",
    "\n",
    "if name in names :\n",
    "    print(names[name])\n",
    "elif name not in names :\n",
    "    names[name] = 0000\n",
    "    print(names[name])\n",
    "else :\n",
    "    print('이름을 제대로 입력해주세요.')"
   ]
  },
  {
   "cell_type": "code",
   "execution_count": 7,
   "metadata": {},
   "outputs": [
    {
     "name": "stdout",
     "output_type": "stream",
     "text": [
      "{'Mary': 12, 'Jane': 25, 'Tom': 20, 'Bob': 0}\n"
     ]
    }
   ],
   "source": [
    "print(names)"
   ]
  },
  {
   "cell_type": "code",
   "execution_count": 10,
   "metadata": {},
   "outputs": [
    {
     "name": "stdout",
     "output_type": "stream",
     "text": [
      "가위, 바위,보 중에 하나를 선택하세요. 나:보\n",
      "가위, 바위,보 중에 하나를 선택하세요. 상대방:가위\n",
      "게임에서 졌습니다.\n"
     ]
    }
   ],
   "source": [
    "mine = input('가위, 바위,보 중에 하나를 선택하세요. 나:')\n",
    "yours = input('가위, 바위,보 중에 하나를 선택하세요. 상대방:')\n",
    "\n",
    "if mine == '가위' and yours == '바위' :\n",
    "    print('게임에서 졌습니다.')\n",
    "elif mine == '가위' and yours == '보' :\n",
    "    print('게임에서 이겼습니다.')\n",
    "elif mine == '바위' and yours == '보' :\n",
    "    print('게임에서 졌습니다.')\n",
    "elif mine == '바위' and yours == '가위' :\n",
    "    print('게임에서 이겼습니다.')\n",
    "elif mine == '보' and yours == '가위' :\n",
    "    print('게임에서 졌습니다.')\n",
    "elif mine == '보' and yours == '바위' :\n",
    "    print('게임에서 이겼습니다.')\n",
    "else :\n",
    "    print('비겼습니다.')\n"
   ]
  },
  {
   "cell_type": "code",
   "execution_count": 17,
   "metadata": {},
   "outputs": [
    {
     "name": "stdout",
     "output_type": "stream",
     "text": [
      "가위, 바위,보 중에 하나를 선택하세요. 나:가위\n",
      "가위, 바위,보 중에 하나를 선택하세요. 상대방:가위\n",
      "비겼습니다.\n"
     ]
    }
   ],
   "source": [
    "mine = input('가위, 바위,보 중에 하나를 선택하세요. 나:')\n",
    "yours = input('가위, 바위,보 중에 하나를 선택하세요. 상대방:')\n",
    "\n",
    "if mine == yours :\n",
    "    print('비겼습니다.')\n",
    "else :\n",
    "    if mine == '가위' :\n",
    "        if yours == '바위' :\n",
    "            print('졌습니다.')\n",
    "        else :\n",
    "            print('이겼습니다')\n",
    "    elif mine == '바위' :\n",
    "        if yours == '보' :\n",
    "            print('졌습니다.')\n",
    "        else :\n",
    "            print('이겼습니다')\n",
    "    elif mine == '보' :\n",
    "        if yours == '가위' :\n",
    "            print('졌습니다.')\n",
    "        else :\n",
    "            print('이겼습니다')"
   ]
  },
  {
   "cell_type": "markdown",
   "metadata": {},
   "source": [
    "# for / while sample"
   ]
  },
  {
   "cell_type": "code",
   "execution_count": 26,
   "metadata": {},
   "outputs": [
    {
     "name": "stdout",
     "output_type": "stream",
     "text": [
      "55\n"
     ]
    }
   ],
   "source": [
    "#1- 10까지 합계\n",
    "sumsample = 0\n",
    "for i in range(11) :\n",
    "    sumsample += i\n",
    "print(sumsample)"
   ]
  },
  {
   "cell_type": "code",
   "execution_count": 27,
   "metadata": {},
   "outputs": [
    {
     "name": "stdout",
     "output_type": "stream",
     "text": [
      "55\n"
     ]
    }
   ],
   "source": [
    "sumsample = 0\n",
    "i= 0\n",
    "\n",
    "while i <= 10 :\n",
    "    sumsample += i\n",
    "    i += 1\n",
    "print(sumsample)\n",
    "    "
   ]
  },
  {
   "cell_type": "code",
   "execution_count": 30,
   "metadata": {},
   "outputs": [
    {
     "name": "stdout",
     "output_type": "stream",
     "text": [
      "c\n",
      "n\n",
      "p\n",
      "t\n",
      "t\n",
      "n\n",
      "l\n",
      " \n",
      "t\n",
      "h\n",
      "n\n",
      "k\n",
      "n\n",
      "g\n",
      "['c', 'o', 'n', 'p', 'u', 't', 'a', 't', 'i', 'o', 'n', 'a', 'l', ' ', 't', 'h', 'i', 'n', 'k', 'i', 'n', 'g']\n"
     ]
    }
   ],
   "source": [
    "# 'computational thinking' 에서 모음만 출력\n",
    "\n",
    "for i in 'conputational thinking' :\n",
    "    if i not in 'aieou':\n",
    "        print(i)\n",
    "\n",
    "\n",
    "exple = [(x) for x in 'conputational thinking' if i not in 'aeiou']\n",
    "print(exple)"
   ]
  },
  {
   "cell_type": "code",
   "execution_count": 31,
   "metadata": {},
   "outputs": [
    {
     "name": "stdout",
     "output_type": "stream",
     "text": [
      "8\n",
      "['o', 'u', 'a', 'i', 'o', 'a', 'i', 'i']\n"
     ]
    }
   ],
   "source": [
    "count = 0\n",
    "letters = []\n",
    "text = 'computational thinking'\n",
    "\n",
    "for letter in text :\n",
    "    if letter in 'aeiou' :\n",
    "        count += 1\n",
    "        letters.append(letter)\n",
    "print(count)\n",
    "print(letters)"
   ]
  },
  {
   "cell_type": "code",
   "execution_count": 32,
   "metadata": {},
   "outputs": [
    {
     "name": "stdout",
     "output_type": "stream",
     "text": [
      "[(0, 5), (0, 6), (0, 7), (0, 8), (0, 9), (0, 10), (1, 5), (1, 6), (1, 7), (1, 8), (1, 9), (1, 10), (2, 5), (2, 6), (2, 7), (2, 8), (2, 9), (2, 10), (3, 5), (3, 6), (3, 7), (3, 8), (3, 9), (3, 10), (4, 5), (4, 6), (4, 7), (4, 8), (4, 9), (4, 10)]\n"
     ]
    }
   ],
   "source": [
    "x = [0,1,2,3,4]\n",
    "y = [5,6,7,8,9,10]\n",
    "\n",
    "z = [(a,b) for a in x for b in y ]\n",
    "print(z)"
   ]
  },
  {
   "cell_type": "code",
   "execution_count": 37,
   "metadata": {},
   "outputs": [
    {
     "name": "stdout",
     "output_type": "stream",
     "text": [
      "[(0, 5), (0, 6), (0, 7), (0, 8), (0, 9), (0, 10), (1, 5), (1, 6), (1, 7), (1, 8), (1, 9), (1, 10), (2, 5), (2, 6), (2, 7), (2, 8), (2, 9), (2, 10), (3, 5), (3, 6), (3, 7), (3, 8), (3, 9), (3, 10), (4, 5), (4, 6), (4, 7), (4, 8), (4, 9), (4, 10)]\n"
     ]
    }
   ],
   "source": [
    "x = [0,1,2,3,4]\n",
    "y = [5,6,7,8,9,10]\n",
    "\n",
    "z = []\n",
    "\n",
    "for a in x :\n",
    "    for b in y :\n",
    "        z.append((a,b))\n",
    "print(z)"
   ]
  },
  {
   "cell_type": "code",
   "execution_count": 39,
   "metadata": {},
   "outputs": [
    {
     "name": "stdout",
     "output_type": "stream",
     "text": [
      "[0, 2, 4, 6, 8]\n"
     ]
    }
   ],
   "source": [
    "X = [x for x in range(10) if x%2 == 0]\n",
    "print(X)"
   ]
  },
  {
   "cell_type": "code",
   "execution_count": 47,
   "metadata": {},
   "outputs": [
    {
     "name": "stdout",
     "output_type": "stream",
     "text": [
      "[('LIFE', 'life', 4), ('IS', 'is', 2), ('HARD', 'hard', 4), ('BUT', 'but', 3), ('YOU', 'you', 3), ('CAN', 'can', 3), ('LEARN', 'learn', 5), ('ABOUT', 'about', 5), ('HOW', 'how', 3), ('TO', 'to', 2), ('DO', 'do', 2), ('IN', 'in', 2), ('YOUR', 'your', 4), ('LIFE', 'life', 4)]\n"
     ]
    }
   ],
   "source": [
    "Phrase = 'Life is hard but you can learn about how to do in your life'\n",
    "\n",
    "X = [ (word. upper(), word.lower(), len(word)) for word in Phrase.split() ]\n",
    "print(X)"
   ]
  },
  {
   "cell_type": "code",
   "execution_count": 50,
   "metadata": {},
   "outputs": [
    {
     "name": "stdout",
     "output_type": "stream",
     "text": [
      "5\n",
      "6\n"
     ]
    }
   ],
   "source": [
    "for i in range(1,11) :\n",
    "    if i < 5 :\n",
    "        continue\n",
    "    if i > 6 :\n",
    "        break\n",
    "    print(i)"
   ]
  },
  {
   "cell_type": "code",
   "execution_count": 53,
   "metadata": {},
   "outputs": [
    {
     "name": "stdout",
     "output_type": "stream",
     "text": [
      "[5, 6]\n"
     ]
    }
   ],
   "source": [
    "list = []\n",
    "for i in range(1,11) :\n",
    "    if i < 5 :\n",
    "        continue\n",
    "    if i > 6 :\n",
    "        break\n",
    "    list.append(i)\n",
    "print(list)"
   ]
  },
  {
   "cell_type": "code",
   "execution_count": 54,
   "metadata": {},
   "outputs": [
    {
     "name": "stdout",
     "output_type": "stream",
     "text": [
      "국어 점수를 입력하세요:50\n",
      "영어 점수를 입력하세요:49\n",
      "수학 점수를 입력하세요:86\n",
      "사회 점수를 입력하세요:98\n",
      "과학 점수를 입력하세요:42\n",
      "당신의 평균점수는 65.0 입니다.\n"
     ]
    }
   ],
   "source": [
    "#5과목의 점수의 평균을 계산\n",
    "\n",
    "a = int(input('국어 점수를 입력하세요:'))\n",
    "b = int(input('영어 점수를 입력하세요:'))\n",
    "c = int(input('수학 점수를 입력하세요:'))\n",
    "d = int(input('사회 점수를 입력하세요:'))\n",
    "e = int(input('과학 점수를 입력하세요:'))\n",
    "\n",
    "average = (a+b+c+d+e) / 5\n",
    "\n",
    "\n",
    "print('당신의 평균점수는',average,'입니다.' )"
   ]
  },
  {
   "cell_type": "code",
   "execution_count": 59,
   "metadata": {},
   "outputs": [
    {
     "name": "stdout",
     "output_type": "stream",
     "text": [
      "점수를 입력하세요.4\n",
      "점수를 입력하세요.4\n",
      "점수를 입력하세요.4\n",
      "점수를 입력하세요.4\n",
      "점수를 입력하세요.4\n",
      "6\n",
      "4.0\n"
     ]
    }
   ],
   "source": [
    "total = 0\n",
    "count = 1\n",
    "\n",
    "while count <= 5 :\n",
    "    score = int(input('점수를 입력하세요.'))\n",
    "    total += score\n",
    "    count += 1\n",
    "    \n",
    "print(count)\n",
    "    \n",
    "avrg = total/(count-1)\n",
    "print(avrg)"
   ]
  },
  {
   "cell_type": "code",
   "execution_count": 63,
   "metadata": {},
   "outputs": [
    {
     "name": "stdout",
     "output_type": "stream",
     "text": [
      "팩토리얼을 알고 싶은 숫자를 적으시오.:5\n",
      "120\n"
     ]
    }
   ],
   "source": [
    "#팩토리얼 (while)\n",
    "\n",
    "num = int(input('팩토리얼을 알고 싶은 숫자를 적으시오.:'))\n",
    "i = 1\n",
    "factor = 1\n",
    "\n",
    "while i <= num :\n",
    "    factor *= i\n",
    "    i += 1\n",
    "print(factor)"
   ]
  },
  {
   "cell_type": "code",
   "execution_count": 68,
   "metadata": {},
   "outputs": [
    {
     "name": "stdout",
     "output_type": "stream",
     "text": [
      "팩토리얼을 알고 싶은 숫자를 적으시오.:4\n",
      "4 ! = 24\n"
     ]
    }
   ],
   "source": [
    "#팩토리얼 (for)\n",
    "\n",
    "num = int(input('팩토리얼을 알고 싶은 숫자를 적으시오.:'))\n",
    "factor = 1\n",
    "    \n",
    "for i in range(1,num+1) :\n",
    "    factor *= i\n",
    "\n",
    "print(str(num),\"! =\",factor)"
   ]
  },
  {
   "cell_type": "code",
   "execution_count": 72,
   "metadata": {},
   "outputs": [
    {
     "name": "stdout",
     "output_type": "stream",
     "text": [
      "1\n",
      "3\n",
      "5\n"
     ]
    }
   ],
   "source": [
    "scope = [1,2,3,4,5]\n",
    "\n",
    "for i in scope:\n",
    "    if i % 2 == 0:\n",
    "        continue\n",
    "    print(i)"
   ]
  },
  {
   "cell_type": "code",
   "execution_count": 78,
   "metadata": {},
   "outputs": [
    {
     "name": "stdout",
     "output_type": "stream",
     "text": [
      "--->10\n",
      "짝수의 합은 30 홀수의 합은 25 입니다.\n"
     ]
    }
   ],
   "source": [
    "n = int(input('--->'))\n",
    "oddSum = 0\n",
    "evenSum = 0\n",
    "\n",
    "for i in range(n+1):\n",
    "    if i % 2 == 0:\n",
    "        evenSum += i\n",
    "    else :\n",
    "        oddSum += i\n",
    "        \n",
    "print(\"짝수의 합은 {} 홀수의 합은 {} 입니다.\".format(evenSum, oddSum))"
   ]
  },
  {
   "cell_type": "code",
   "execution_count": 80,
   "metadata": {},
   "outputs": [
    {
     "name": "stdout",
     "output_type": "stream",
     "text": [
      "L의 최대값은 100, 최소값은 60 입니다.\n"
     ]
    }
   ],
   "source": [
    "L = [ 70, 100, 80, 60, 90]\n",
    "nMin = nMax = L[0]\n",
    "    \n",
    "for i in L :\n",
    "    if i > nMax:\n",
    "        nMax = i\n",
    "    elif i < nMin :\n",
    "        nMin = i\n",
    "        \n",
    "print(\"L의 최대값은 {}, 최소값은 {} 입니다.\".format(nMax, nMin))\n",
    "    "
   ]
  },
  {
   "cell_type": "code",
   "execution_count": 92,
   "metadata": {},
   "outputs": [
    {
     "name": "stdout",
     "output_type": "stream",
     "text": [
      "\n",
      "1X1=  1 2X1=  2 3X1=  3 4X1=  4 5X1=  5 6X1=  6 7X1=  7 8X1=  8 9X1=  9 \n",
      "1X2=  2 2X2=  4 3X2=  6 4X2=  8 5X2= 10 6X2= 12 7X2= 14 8X2= 16 9X2= 18 \n",
      "1X3=  3 2X3=  6 3X3=  9 4X3= 12 5X3= 15 6X3= 18 7X3= 21 8X3= 24 9X3= 27 \n",
      "1X4=  4 2X4=  8 3X4= 12 4X4= 16 5X4= 20 6X4= 24 7X4= 28 8X4= 32 9X4= 36 \n",
      "1X5=  5 2X5= 10 3X5= 15 4X5= 20 5X5= 25 6X5= 30 7X5= 35 8X5= 40 9X5= 45 \n",
      "1X6=  6 2X6= 12 3X6= 18 4X6= 24 5X6= 30 6X6= 36 7X6= 42 8X6= 48 9X6= 54 \n",
      "1X7=  7 2X7= 14 3X7= 21 4X7= 28 5X7= 35 6X7= 42 7X7= 49 8X7= 56 9X7= 63 \n",
      "1X8=  8 2X8= 16 3X8= 24 4X8= 32 5X8= 40 6X8= 48 7X8= 56 8X8= 64 9X8= 72 \n",
      "1X9=  9 2X9= 18 3X9= 27 4X9= 36 5X9= 45 6X9= 54 7X9= 63 8X9= 72 9X9= 81 "
     ]
    }
   ],
   "source": [
    "for i in range(1,10):\n",
    "    print()\n",
    "    for j in range(1,10):\n",
    "        print('{}X{}={:>3}'.format(j,i,i*j), end = ' ' )"
   ]
  },
  {
   "cell_type": "code",
   "execution_count": 1,
   "metadata": {},
   "outputs": [
    {
     "name": "stdout",
     "output_type": "stream",
     "text": [
      "양의 정수를 입력하시오.321\n",
      "321 은 소수가 아닙니다.\n"
     ]
    }
   ],
   "source": [
    "n = int(input('양의 정수를 입력하시오.'))\n",
    "\n",
    "config = []\n",
    "for i in range(1,n+1):\n",
    "    if n%i == 0:\n",
    "        config.append(i)\n",
    "    \n",
    "if len(config) == 2 :\n",
    "    print(str(n),'은 소수 입니다.')\n",
    "else :\n",
    "    print(str(n),'은 소수가 아닙니다.')\n",
    "            \n",
    "    \n",
    "    "
   ]
  },
  {
   "cell_type": "code",
   "execution_count": 2,
   "metadata": {},
   "outputs": [
    {
     "name": "stdout",
     "output_type": "stream",
     "text": [
      "\n",
      "★\n",
      "★★\n",
      "★★★\n",
      "★★★★\n",
      "★★★★★\n",
      "★★★★★★\n",
      "★★★★★★★\n",
      "★★★★★★★★\n",
      "★★★★★★★★★\n"
     ]
    }
   ],
   "source": [
    "for i in range(10):\n",
    "    print('★'*i)"
   ]
  },
  {
   "cell_type": "code",
   "execution_count": 7,
   "metadata": {
    "scrolled": true
   },
   "outputs": [
    {
     "name": "stdout",
     "output_type": "stream",
     "text": [
      "☆☆☆☆☆☆☆☆☆☆\n",
      "☆☆☆☆☆☆☆☆☆\n",
      "☆☆☆☆☆☆☆☆\n",
      "☆☆☆☆☆☆☆\n",
      "☆☆☆☆☆☆\n",
      "☆☆☆☆☆\n",
      "☆☆☆☆\n",
      "☆☆☆\n",
      "☆☆\n",
      "☆\n"
     ]
    }
   ],
   "source": [
    "for i in range(10):\n",
    "    print('☆'* (10-i))"
   ]
  },
  {
   "cell_type": "code",
   "execution_count": 14,
   "metadata": {},
   "outputs": [
    {
     "name": "stdout",
     "output_type": "stream",
     "text": [
      "                      \n",
      "          ☆          \n",
      "         ☆☆         \n",
      "        ☆☆☆        \n",
      "       ☆☆☆☆       \n",
      "      ☆☆☆☆☆      \n",
      "     ☆☆☆☆☆☆     \n",
      "    ☆☆☆☆☆☆☆    \n",
      "   ☆☆☆☆☆☆☆☆   \n",
      "  ☆☆☆☆☆☆☆☆☆  \n",
      " ☆☆☆☆☆☆☆☆☆☆ \n",
      "  ☆☆☆☆☆☆☆☆☆  \n",
      "   ☆☆☆☆☆☆☆☆   \n",
      "    ☆☆☆☆☆☆☆    \n",
      "     ☆☆☆☆☆☆     \n",
      "      ☆☆☆☆☆      \n",
      "       ☆☆☆☆       \n",
      "        ☆☆☆        \n",
      "         ☆☆         \n",
      "          ☆          \n"
     ]
    }
   ],
   "source": [
    "for i in range(10):\n",
    "    print(' '*(10-i),'☆'*i,' '*(10-i))\n",
    "for i in range(10):\n",
    "    print(' '*(i),'☆'*(10-i),' '*(i))\n"
   ]
  },
  {
   "cell_type": "code",
   "execution_count": 19,
   "metadata": {
    "scrolled": true
   },
   "outputs": [
    {
     "name": "stdout",
     "output_type": "stream",
     "text": [
      "    *     \n",
      "   ***    \n",
      "  *****   \n",
      " *******  \n",
      "********* \n"
     ]
    }
   ],
   "source": [
    "for i in range(1,10,2):\n",
    "    print('{:^10}'.format('*'*i))"
   ]
  },
  {
   "cell_type": "code",
   "execution_count": 29,
   "metadata": {},
   "outputs": [
    {
     "name": "stdout",
     "output_type": "stream",
     "text": [
      "         *          \n",
      "        ***         \n",
      "       *****        \n",
      "      *******       \n",
      "     *********      \n",
      "    ***********     \n",
      "   *************    \n",
      "  ***************   \n",
      " *****************  \n",
      "******************* \n",
      " *****************  \n",
      "  ***************   \n",
      "   *************    \n",
      "    ***********     \n",
      "     *********      \n",
      "      *******       \n",
      "       *****        \n",
      "        ***         \n",
      "         *          \n",
      "                    \n"
     ]
    }
   ],
   "source": [
    "for i in range(1,20,2):\n",
    "    print('{:^20}'.format('*'*i))\n",
    "for i in range(1,20,2):\n",
    "    print('{:^20}'.format('*'*(18-i)))"
   ]
  },
  {
   "cell_type": "code",
   "execution_count": 43,
   "metadata": {},
   "outputs": [
    {
     "name": "stdout",
     "output_type": "stream",
     "text": [
      "g\n",
      "pro\n",
      "True\n",
      " PYTHON PROGRAMMING \n",
      "['python', 'programming']\n",
      "python-programming\n",
      "python programming\n",
      " python programming \n",
      " hello programming \n"
     ]
    }
   ],
   "source": [
    "Text1 = ' python programming '\n",
    "\n",
    "#1. 'g' 출fur\n",
    "print(Text1[11])\n",
    "# 'pro' 출력\n",
    "print(Text1[8:11])\n",
    "print('gram' in Text1)\n",
    "print(Text1.upper())\n",
    "print(Text1.split())\n",
    "Text2 = Text1.split()\n",
    "print('-'.join(Text2))\n",
    "print(Text1.strip())\n",
    "print(Text1)\n",
    "print(Text1.replace('python','hello'))"
   ]
  },
  {
   "cell_type": "code",
   "execution_count": 89,
   "metadata": {},
   "outputs": [
    {
     "name": "stdout",
     "output_type": "stream",
     "text": [
      "1. ['수성', '금성', '지구']\n",
      "2. 3 6\n",
      "3 ['태양', '수성', '금성', '지구', '해왕성', '목성', '지구']\n",
      "4 ['태양', '명왕성', '수성', '금성', '지구', '해왕성', '목성', '지구']\n",
      "5 ['태양', '명왕성', '수성', '금성', '지구', '해왕성', '목성', '지구', '토성']\n",
      "6 ['태양', '명왕성', '수성', '금성', '지구', '해왕성', '목성', '지구']\n",
      "7 ['태양', '명왕성', '수성', '지구', '해왕성', '목성', '지구']\n",
      "8 ['지구', '해왕성', '목성', '지구']\n",
      "9 ['지구', '해왕성', '지구']\n",
      "10 ['지구', '해왕성', '지구', '토성', '천왕성', '해왕성']\n",
      "11 ['지구', '지구', '천왕성', '토성', '해왕성', '해왕성']\n",
      "12 ['해왕성', '해왕성', '토성', '천왕성', '지구', '지구']\n",
      "13 ['해왕성', '천왕성', '토성', '지구', '해왕성', '지구']\n",
      "14 False\n",
      "15 ['해왕성', '천왕성', '토성', '지구', '해왕성', '지구', '해왕성', '천왕성', '토성', '지구', '해왕성', '지구', '해왕성', '천왕성', '토성', '지구', '해왕성', '지구']\n",
      "16 6\n",
      "17 2\n",
      "18 []\n"
     ]
    },
    {
     "ename": "NameError",
     "evalue": "name 'solarsys' is not defined",
     "output_type": "error",
     "traceback": [
      "\u001b[1;31m---------------------------------------------------------------------------\u001b[0m",
      "\u001b[1;31mNameError\u001b[0m                                 Traceback (most recent call last)",
      "\u001b[1;32m<ipython-input-89-6d2660ce3477>\u001b[0m in \u001b[0;36m<module>\u001b[1;34m\u001b[0m\n\u001b[0;32m     32\u001b[0m \u001b[0mprint\u001b[0m\u001b[1;33m(\u001b[0m\u001b[1;34m'18'\u001b[0m\u001b[1;33m,\u001b[0m \u001b[0msolarsys\u001b[0m\u001b[1;33m)\u001b[0m\u001b[1;33m\u001b[0m\u001b[1;33m\u001b[0m\u001b[0m\n\u001b[0;32m     33\u001b[0m \u001b[1;32mdel\u001b[0m \u001b[0msolarsys\u001b[0m\u001b[1;33m\u001b[0m\u001b[1;33m\u001b[0m\u001b[0m\n\u001b[1;32m---> 34\u001b[1;33m \u001b[0mprint\u001b[0m\u001b[1;33m(\u001b[0m\u001b[0msolarsys\u001b[0m\u001b[1;33m)\u001b[0m\u001b[1;33m\u001b[0m\u001b[1;33m\u001b[0m\u001b[0m\n\u001b[0m",
      "\u001b[1;31mNameError\u001b[0m: name 'solarsys' is not defined"
     ]
    }
   ],
   "source": [
    "solarsys = ['태양','수성','금성','지구','화성','목성','지구']\n",
    "solarsys1 = ['토성','천왕성','해왕성']\n",
    "planet = '지구'\n",
    "\n",
    "print('1.',solarsys[1:4])\n",
    "print('2.',solarsys.index('지구'),solarsys.index('지구',4))\n",
    "solarsys[4] = '해왕성'\n",
    "print('3', solarsys)\n",
    "solarsys.insert(1,'명왕성')\n",
    "print('4', solarsys)\n",
    "solarsys.append('토성')\n",
    "print('5', solarsys)\n",
    "solarsys.pop()\n",
    "print('6', solarsys)\n",
    "del solarsys[3]\n",
    "print('7', solarsys)\n",
    "del solarsys[0:3]\n",
    "print('8', solarsys)\n",
    "del solarsys[2]\n",
    "print('9', solarsys)\n",
    "solarsys = solarsys + solarsys1\n",
    "print('10', solarsys)\n",
    "print('11',sorted(solarsys))\n",
    "print('12',sorted(solarsys, reverse=True))\n",
    "solarsys.reverse()\n",
    "print('13',solarsys)\n",
    "print('14','만리장성' in solarsys)\n",
    "print('15',solarsys *3)\n",
    "print('16',len(solarsys))\n",
    "print('17',solarsys.count('지구'))\n",
    "solarsys.clear()\n",
    "print('18', solarsys)\n",
    "del solarsys\n",
    "print(solarsys)"
   ]
  },
  {
   "cell_type": "code",
   "execution_count": 93,
   "metadata": {},
   "outputs": [
    {
     "name": "stdout",
     "output_type": "stream",
     "text": [
      "1  Hello World \n",
      "2 ['Hello', 'World']\n",
      "3 Hello-World\n",
      "4 Hello World\n",
      "5  Python World \n"
     ]
    }
   ],
   "source": [
    "Text1 = \" Hello World \"\n",
    "\n",
    "print('1', Text1)\n",
    "\n",
    "Text2 = Text1.split()\n",
    "print('2', Text2)\n",
    "print('3', '-'.join(Text2))\n",
    "print('4', Text1.strip())\n",
    "print('5', Text1.replace('Hello','Python'))"
   ]
  },
  {
   "cell_type": "code",
   "execution_count": 115,
   "metadata": {},
   "outputs": [
    {
     "name": "stdout",
     "output_type": "stream",
     "text": [
      "3 7\n",
      "[4, 8, 6, 2, 5, 7, 6, 2]\n",
      "[4, 8, 6, 2, 5, 7, 6, 2, 10]\n",
      "[4, 8, 6, 2, 5, 7, 6, 2]\n",
      "[4, 6, 2, 5, 7, 6, 2]\n",
      "[4, 6, 5, 7, 6, 2]\n"
     ]
    }
   ],
   "source": [
    "L = [4,8,6,2,5,9,6,2]\n",
    "\n",
    "print(L.index(2) , L.index(2,4))\n",
    "L[5]= 7\n",
    "print(L)\n",
    "L.append(10)\n",
    "print(L)\n",
    "L.pop()\n",
    "print(L)\n",
    "L.remove(8)\n",
    "print(L)\n",
    "del L[2]\n",
    "print(L)"
   ]
  },
  {
   "cell_type": "code",
   "execution_count": null,
   "metadata": {},
   "outputs": [],
   "source": []
  },
  {
   "cell_type": "code",
   "execution_count": null,
   "metadata": {},
   "outputs": [],
   "source": []
  },
  {
   "cell_type": "code",
   "execution_count": null,
   "metadata": {},
   "outputs": [],
   "source": []
  },
  {
   "cell_type": "code",
   "execution_count": null,
   "metadata": {},
   "outputs": [],
   "source": []
  }
 ],
 "metadata": {
  "kernelspec": {
   "display_name": "Python 3",
   "language": "python",
   "name": "python3"
  },
  "language_info": {
   "codemirror_mode": {
    "name": "ipython",
    "version": 3
   },
   "file_extension": ".py",
   "mimetype": "text/x-python",
   "name": "python",
   "nbconvert_exporter": "python",
   "pygments_lexer": "ipython3",
   "version": "3.7.3"
  }
 },
 "nbformat": 4,
 "nbformat_minor": 2
}
