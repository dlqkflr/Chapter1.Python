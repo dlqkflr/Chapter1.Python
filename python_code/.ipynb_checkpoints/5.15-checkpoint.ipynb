{
 "cells": [
  {
   "cell_type": "code",
   "execution_count": 3,
   "metadata": {},
   "outputs": [
    {
     "data": {
      "text/plain": [
       "'\"나 보기가 역겨워 \\n가실 때에는 \\n말없이 고이 보내 드리우리다.\\n\\n영변에 약산 \\n진달래꽃 \\n아름따다 가실 길에 뿌리우리다.\\n\\n가시는 걸음 걸음 어잇차\\n놓인 그 꽃을 얼쑤\\n사뿐히 즈려 밟고 가시옵소서.\\n\\n나 보기가 역겨워\\n가실 때에는\\n죽어도 아니 눈물 흘리우리다.'"
      ]
     },
     "execution_count": 3,
     "metadata": {},
     "output_type": "execute_result"
    }
   ],
   "source": [
    "#김소월 진달래꽃- 파일에 write. 파일을 열어서 4가지 모드로 읽어서 출력\n",
    "\n",
    "\n",
    "\n",
    "\"\"\"\"나 보기가 역겨워 \n",
    "가실 때에는 \n",
    "말없이 고이 보내 드리우리다.\n",
    "\n",
    "영변에 약산 \n",
    "진달래꽃 \n",
    "아름따다 가실 길에 뿌리우리다.\n",
    "\n",
    "가시는 걸음 걸음 어잇차\n",
    "놓인 그 꽃을 얼쑤\n",
    "사뿐히 즈려 밟고 가시옵소서.\n",
    "\n",
    "나 보기가 역겨워\n",
    "가실 때에는\n",
    "죽어도 아니 눈물 흘리우리다.\"\"\""
   ]
  },
  {
   "cell_type": "code",
   "execution_count": 42,
   "metadata": {},
   "outputs": [],
   "source": [
    "f = open ('jindal.txt', 'w')\n",
    "f.write('''나 보기가 역겨워 \n",
    "가실 때에는 \n",
    "말없이 고이 보내 드리우리다.\n",
    "\n",
    "영변에 약산 \n",
    "진달래꽃 \n",
    "아름따다 가실 길에 뿌리우리다.\n",
    "\n",
    "가시는 걸음 걸음 어잇차\n",
    "놓인 그 꽃을 얼쑤\n",
    "사뿐히 즈려 밟고 가시옵소서.\n",
    "\n",
    "나 보기가 역겨워\n",
    "가실 때에는\n",
    "죽어도 아니 눈물 흘리우리다.''')\n",
    "f.close()\n",
    "\n",
    "        "
   ]
  },
  {
   "cell_type": "code",
   "execution_count": 44,
   "metadata": {},
   "outputs": [
    {
     "name": "stdout",
     "output_type": "stream",
     "text": [
      "나 보기가 역겨워 \n",
      "가실 때에는 \n",
      "말없이 고이 보내 드리우리다.\n",
      "\n",
      "영변에 약산 \n",
      "진달래꽃 \n",
      "아름따다 가실 길에 뿌리우리다.\n",
      "\n",
      "가시는 걸음 걸음 어잇차\n",
      "놓인 그 꽃을 얼쑤\n",
      "사뿐히 즈려 밟고 가시옵소서.\n",
      "\n",
      "나 보기가 역겨워\n",
      "가실 때에는\n",
      "죽어도 아니 눈물 흘리우리다.\n"
     ]
    }
   ],
   "source": [
    "f = open ('jindal.txt', 'r')\n",
    "a = f.read()\n",
    "print(a)\n",
    "\n",
    "f.close()\n"
   ]
  },
  {
   "cell_type": "code",
   "execution_count": 35,
   "metadata": {},
   "outputs": [],
   "source": [
    "#b = f.read()\n",
    "#print(b)"
   ]
  },
  {
   "cell_type": "code",
   "execution_count": 41,
   "metadata": {},
   "outputs": [
    {
     "name": "stdout",
     "output_type": "stream",
     "text": [
      "\n",
      "[]\n"
     ]
    }
   ],
   "source": [
    "#c = f.readline()\n",
    "#print(c)\n",
    "#d = f.readlines()\n",
    "#print(d)\n",
    "\n",
    "#f.close()"
   ]
  },
  {
   "cell_type": "code",
   "execution_count": null,
   "metadata": {},
   "outputs": [],
   "source": []
  },
  {
   "cell_type": "code",
   "execution_count": 45,
   "metadata": {},
   "outputs": [
    {
     "name": "stdout",
     "output_type": "stream",
     "text": [
      "나 보기가 역겨워 \n",
      "가실 때에는 \n",
      "말없이 고이 보내 드리우리다.\n",
      "\n",
      "영변에 약산 \n",
      "진달래꽃 \n",
      "아름따다 가실 길에 뿌리우리다.\n",
      "\n",
      "가시는 걸음 걸음 어잇차\n",
      "놓인 그 꽃을 얼쑤\n",
      "사뿐히 즈려 밟고 가시옵소서.\n",
      "\n",
      "나 보기가 역겨워\n",
      "가실 때에는\n",
      "죽어도 아니 눈물 흘리우리다.\n"
     ]
    }
   ],
   "source": [
    "f = open('jindal.txt', 'r')\n",
    "jin = f.read()\n",
    "print(jin)\n",
    "f.close()"
   ]
  },
  {
   "cell_type": "code",
   "execution_count": 46,
   "metadata": {},
   "outputs": [
    {
     "name": "stdout",
     "output_type": "stream",
     "text": [
      "['나 보기가 역겨워 \\n', '가실 때에는 \\n', '말없이 고이 보내 드리우리다.\\n', '\\n', '영변에 약산 \\n', '진달래꽃 \\n', '아름따다 가실 길에 뿌리우리다.\\n', '\\n', '가시는 걸음 걸음 어잇차\\n', '놓인 그 꽃을 얼쑤\\n', '사뿐히 즈려 밟고 가시옵소서.\\n', '\\n', '나 보기가 역겨워\\n', '가실 때에는\\n', '죽어도 아니 눈물 흘리우리다.']\n"
     ]
    }
   ],
   "source": [
    "f = open('jindal.txt', 'r')\n",
    "jin =[]\n",
    "for gasa in f:\n",
    "    jin.append(gasa)\n",
    "\n",
    "print(jin)    \n",
    "\n",
    "f.close()"
   ]
  },
  {
   "cell_type": "code",
   "execution_count": 48,
   "metadata": {},
   "outputs": [
    {
     "name": "stdout",
     "output_type": "stream",
     "text": [
      "나 보기가 역겨워 \n",
      "\n",
      "가실 때에는 \n",
      "\n",
      "말없이 고이 보내 드리우리다.\n",
      "\n",
      "\n",
      "\n",
      "영변에 약산 \n",
      "\n",
      "진달래꽃 \n",
      "\n",
      "아름따다 가실 길에 뿌리우리다.\n",
      "\n",
      "\n",
      "\n",
      "가시는 걸음 걸음 어잇차\n",
      "\n",
      "놓인 그 꽃을 얼쑤\n",
      "\n",
      "사뿐히 즈려 밟고 가시옵소서.\n",
      "\n",
      "\n",
      "\n",
      "나 보기가 역겨워\n",
      "\n",
      "가실 때에는\n",
      "\n",
      "죽어도 아니 눈물 흘리우리다.\n"
     ]
    }
   ],
   "source": [
    "f = open('jindal.txt','r')\n",
    "\n",
    "line = f.readline()\n",
    "while line:\n",
    "    print(line)\n",
    "    line = f.readline()"
   ]
  },
  {
   "cell_type": "code",
   "execution_count": 57,
   "metadata": {},
   "outputs": [
    {
     "name": "stdout",
     "output_type": "stream",
     "text": [
      "{'2': '45', '4': '39', '1': '41', '3': '40'}\n"
     ]
    }
   ],
   "source": [
    "d = open('ban.txt', 'r')\n",
    "bandic = {}\n",
    "\n",
    "a = d.readline()\n",
    "while a :\n",
    "    b=  a.split()\n",
    "    bandic[b[0]] = b[1]\n",
    "    a = d.readline()\n",
    "    \n",
    "print(bandic)"
   ]
  },
  {
   "cell_type": "code",
   "execution_count": 59,
   "metadata": {},
   "outputs": [
    {
     "name": "stdout",
     "output_type": "stream",
     "text": [
      "{'2': '45', '4': '39', '1': '41', '3': '40'}\n"
     ]
    }
   ],
   "source": [
    "D = {}\n",
    "f = open('ban.txt','r')\n",
    "\n",
    "for line in f :\n",
    "    (key,val) = line.split()\n",
    "    D[key] = val\n",
    "#    D[line.split()[0]] = line.split()[1]        \n",
    "print(D)"
   ]
  },
  {
   "cell_type": "code",
   "execution_count": null,
   "metadata": {},
   "outputs": [],
   "source": []
  },
  {
   "cell_type": "code",
   "execution_count": 65,
   "metadata": {},
   "outputs": [
    {
     "ename": "SyntaxError",
     "evalue": "unexpected EOF while parsing (<ipython-input-65-f7c49ddaa187>, line 2)",
     "output_type": "error",
     "traceback": [
      "\u001b[1;36m  File \u001b[1;32m\"<ipython-input-65-f7c49ddaa187>\"\u001b[1;36m, line \u001b[1;32m2\u001b[0m\n\u001b[1;33m    \u001b[0m\n\u001b[1;37m    ^\u001b[0m\n\u001b[1;31mSyntaxError\u001b[0m\u001b[1;31m:\u001b[0m unexpected EOF while parsing\n"
     ]
    }
   ],
   "source": [
    "def writtings1(self):\n",
    "    "
   ]
  },
  {
   "cell_type": "code",
   "execution_count": 67,
   "metadata": {},
   "outputs": [
    {
     "data": {
      "text/plain": [
       "<function __main__.writtings1()>"
      ]
     },
     "execution_count": 67,
     "metadata": {},
     "output_type": "execute_result"
    }
   ],
   "source": [
    "def writtings1():\n",
    "    \n",
    "    while True:\n",
    "        \n",
    "        text =input('택스트를 입력하세요')\n",
    "        if text == '' :\n",
    "            break\n",
    "        else:\n",
    "            f = open('mydata.txt','a')\n",
    "            f.write(text)\n",
    "        \n",
    "    f.close()\n",
    "\n",
    "writtings1"
   ]
  },
  {
   "cell_type": "code",
   "execution_count": 68,
   "metadata": {},
   "outputs": [],
   "source": [
    "f = open('stockcode.txt', 'r')\n",
    "data = f.read()\n",
    "g = open('staockcode1.txt','w')\n",
    "g.write(data)\n",
    "f.close()\n",
    "g.close()"
   ]
  },
  {
   "cell_type": "code",
   "execution_count": 6,
   "metadata": {},
   "outputs": [],
   "source": [
    "f = open('gomana.jpg', 'rb')\n",
    "g = open('gomana2.jpg', 'wb')\n",
    "buf_size = 100\n",
    "image1 = f.read(buf_size)\n",
    "\n",
    "while image1:\n",
    "    image1 = f.read(buf_size)\n",
    "    g.write(image1)\n",
    "f.close()\n",
    "g.close()\n"
   ]
  },
  {
   "cell_type": "code",
   "execution_count": 9,
   "metadata": {},
   "outputs": [
    {
     "name": "stdout",
     "output_type": "stream",
     "text": [
      " 유한양행\n",
      "000101 유한양행우\n",
      "000120 대한통운\n",
      "000140 하이트홀딩스\n",
      "000141 하이트홀딩스우\n",
      "000150 두산\n",
      "000151 두산우\n",
      "000152 두산2우B\n",
      "000180\n"
     ]
    }
   ],
   "source": [
    "spos = 105\n",
    "size = 100\n",
    "\n",
    "f = open('stockcode.txt','r')\n",
    "g = open('stockcode3.txt','w')\n",
    "\n",
    "f.seek(spos)\n",
    "data = f.read(size)\n",
    "g.write(data)\n",
    "\n",
    "p = open('stockcode3.txt','r')\n",
    "data = p.read()\n",
    "print(data)"
   ]
  },
  {
   "cell_type": "code",
   "execution_count": 10,
   "metadata": {},
   "outputs": [],
   "source": [
    "batch_size = 1024\n",
    "\n",
    "f = open('gomana.jpg','rb')\n",
    "g = open('gomana5.jpg','wb')\n",
    "data = f.read(batch_size)\n",
    "\n",
    "while data:\n",
    "    g.write(data)\n",
    "    data = f.read(batch_size)\n",
    "    \n",
    "f.close()\n",
    "g.close()"
   ]
  },
  {
   "cell_type": "code",
   "execution_count": 11,
   "metadata": {},
   "outputs": [
    {
     "name": "stdout",
     "output_type": "stream",
     "text": [
      "('_abc', '_ast', '_bisect', '_blake2', '_codecs', '_codecs_cn', '_codecs_hk', '_codecs_iso2022', '_codecs_jp', '_codecs_kr', '_codecs_tw', '_collections', '_contextvars', '_csv', '_datetime', '_functools', '_heapq', '_imp', '_io', '_json', '_locale', '_lsprof', '_md5', '_multibytecodec', '_opcode', '_operator', '_pickle', '_random', '_sha1', '_sha256', '_sha3', '_sha512', '_signal', '_sre', '_stat', '_string', '_struct', '_symtable', '_thread', '_tracemalloc', '_warnings', '_weakref', '_winapi', 'array', 'atexit', 'audioop', 'binascii', 'builtins', 'cmath', 'errno', 'faulthandler', 'gc', 'itertools', 'marshal', 'math', 'mmap', 'msvcrt', 'nt', 'parser', 'sys', 'time', 'winreg', 'xxsubtype', 'zipimport', 'zlib')\n"
     ]
    }
   ],
   "source": [
    "import sys\n",
    "print(sys.builtin_module_names)"
   ]
  },
  {
   "cell_type": "code",
   "execution_count": 31,
   "metadata": {},
   "outputs": [
    {
     "name": "stdout",
     "output_type": "stream",
     "text": [
      "아무 숫자를 입력하세요:44444\n",
      "44,444\n"
     ]
    }
   ],
   "source": [
    "num = input('아무 숫자를 입력하세요:')\n",
    "num = num[::-1]\n",
    "ret = ''\n",
    "\n",
    "for i, c in enumerate(num):\n",
    "    i = i+1\n",
    "    if i != len(num) and i%3 == 0:\n",
    "        ret += (c+',')\n",
    "    else:\n",
    "        ret += c\n",
    "\n",
    "ret = ret[::-1]\n",
    "\n",
    "print(ret)"
   ]
  },
  {
   "cell_type": "code",
   "execution_count": 53,
   "metadata": {
    "scrolled": true
   },
   "outputs": [
    {
     "name": "stdout",
     "output_type": "stream",
     "text": [
      "아무 숫자를 입력하세요:123123\n",
      "1 3\n",
      "2 2\n",
      "3 1\n",
      "4 3\n",
      "5 2\n",
      "6 1\n",
      "123,123\n"
     ]
    }
   ],
   "source": [
    "num = input('아무 숫자를 입력하세요:')\n",
    "num = num[::-1]\n",
    "ret = ''\n",
    "\n",
    "for i, c in enumerate(num):\n",
    "    i = i+1\n",
    "    if i != len(num) and i%3 == 0:\n",
    "        ret += (c+',')\n",
    "    else:\n",
    "        ret += c\n",
    "    print(i,c)\n",
    "    \n",
    "ret = ret[::-1]\n",
    "\n",
    "print(ret)"
   ]
  },
  {
   "cell_type": "code",
   "execution_count": null,
   "metadata": {},
   "outputs": [],
   "source": []
  },
  {
   "cell_type": "code",
   "execution_count": 45,
   "metadata": {},
   "outputs": [
    {
     "name": "stdout",
     "output_type": "stream",
     "text": [
      "{'s': 5, 'd': 6, 'l': 6, 'k': 9, 'f': 5, 'j': 5, 'a': 1, 'h': 3, 'b': 1, 'e': 1, 'u': 1, 'v': 1}\n"
     ]
    }
   ],
   "source": [
    "def getTextFreq(filename):\n",
    "    \n",
    "    f = open(filename, 'r')\n",
    "    data = f.read()\n",
    "    ret = {}\n",
    "    \n",
    "    for c in data :\n",
    "        if c in ret :\n",
    "            ret[c] += 1\n",
    "        else :\n",
    "            ret[c] = 1\n",
    "    return ret\n",
    "    f.close()\n",
    "    \n",
    "    \n",
    "      \n",
    "ret = getTextFreq('mydata.txt')\n",
    "print(ret)"
   ]
  },
  {
   "cell_type": "code",
   "execution_count": 101,
   "metadata": {},
   "outputs": [
    {
     "name": "stdout",
     "output_type": "stream",
     "text": [
      "찾을 단어를 입력하세요  :병규\n",
      "변경할 단어를 입력하세요.  :뱅규\n",
      "[병규] 를 [뱅규]로 변경하였습니다.\n"
     ]
    }
   ],
   "source": [
    "t1 = str(input('찾을 단어를 입력하세요  :'))\n",
    "t2 = str(input('변경할 단어를 입력하세요.  :'))\n",
    "\n",
    "f = open('mydata.txt','r')\n",
    "g = open('mydata2.txt','w')\n",
    "\n",
    "data = f.read()\n",
    "data_rpl = data.replace(t1, t2)\n",
    "g.write(data_rpl)\n",
    "\n",
    "\n",
    "f.close()\n",
    "g.close()\n",
    "\n",
    "\n",
    "print('[%s] 를 [%s]로 변경하였습니다.' % (t1,t2))"
   ]
  },
  {
   "cell_type": "code",
   "execution_count": 113,
   "metadata": {},
   "outputs": [
    {
     "name": "stdout",
     "output_type": "stream",
     "text": [
      "병규의 개수: 1\n"
     ]
    }
   ],
   "source": [
    "def countWord(filename, word):\n",
    "    \n",
    "    f = open(filename, 'r') \n",
    "    data = f.read()\n",
    "    p = data.count(word)\n",
    "    return p\n",
    "\n",
    "\n",
    "ret1 = countWord('mydata.txt','일')\n",
    "\n",
    "print('{}의 개수: {}'.format(word,ret1))\n",
    "    "
   ]
  },
  {
   "cell_type": "code",
   "execution_count": 10,
   "metadata": {},
   "outputs": [
    {
     "name": "stdout",
     "output_type": "stream",
     "text": [
      "병규의 갯수: 6\n"
     ]
    }
   ],
   "source": [
    "def countWord(filename, word):\n",
    "    \n",
    "    f = open(filename, 'r') \n",
    "    data = f.read()\n",
    "    p = data.count(word)\n",
    "    return p, word\n",
    "\n",
    "\n",
    "ret1,word = countWord('mydata.txt','병규')\n",
    "print('{}의 갯수: {}'.format(word,ret1))"
   ]
  },
  {
   "cell_type": "code",
   "execution_count": 125,
   "metadata": {},
   "outputs": [
    {
     "name": "stdout",
     "output_type": "stream",
     "text": [
      "카운트\n"
     ]
    }
   ],
   "source": []
  },
  {
   "cell_type": "code",
   "execution_count": null,
   "metadata": {},
   "outputs": [],
   "source": []
  }
 ],
 "metadata": {
  "kernelspec": {
   "display_name": "Python 3",
   "language": "python",
   "name": "python3"
  },
  "language_info": {
   "codemirror_mode": {
    "name": "ipython",
    "version": 3
   },
   "file_extension": ".py",
   "mimetype": "text/x-python",
   "name": "python",
   "nbconvert_exporter": "python",
   "pygments_lexer": "ipython3",
   "version": "3.7.3"
  }
 },
 "nbformat": 4,
 "nbformat_minor": 2
}
