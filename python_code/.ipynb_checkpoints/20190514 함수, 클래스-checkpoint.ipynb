{
 "cells": [
  {
   "cell_type": "code",
   "execution_count": 1,
   "metadata": {},
   "outputs": [
    {
     "data": {
      "text/plain": [
       "5"
      ]
     },
     "execution_count": 1,
     "metadata": {},
     "output_type": "execute_result"
    }
   ],
   "source": [
    "#절대값을 리턴하는 함수\n",
    "\n",
    "def abs(a):\n",
    "    if a < 0:\n",
    "        return -a\n",
    "    else:\n",
    "        return a\n",
    "\n",
    "abs(-5)"
   ]
  },
  {
   "cell_type": "code",
   "execution_count": 2,
   "metadata": {},
   "outputs": [
    {
     "data": {
      "text/plain": [
       "12.56"
      ]
     },
     "execution_count": 2,
     "metadata": {},
     "output_type": "execute_result"
    }
   ],
   "source": [
    "#반지름을 받아서 원의 면적을 리턴하는 함수\n",
    "\n",
    "def area(b):\n",
    "    return b*b*3.14 # return pow(b, 2) * 3.14\n",
    "\n",
    "area(2)"
   ]
  },
  {
   "cell_type": "code",
   "execution_count": 3,
   "metadata": {},
   "outputs": [
    {
     "name": "stdout",
     "output_type": "stream",
     "text": [
      "------------------------------\n",
      "Name :  성호\n",
      "E-mail :  aaa@aa.com\n",
      "Office Address :  서울\n",
      "------------------------------\n"
     ]
    }
   ],
   "source": [
    "# 이름, 주소, 이메일을 받고 명함을 훌력하는 함수\n",
    "\n",
    "def print_business_card(n, e, d):\n",
    "    print('-'*30)\n",
    "    print('Name : ', n)\n",
    "    print('E-mail : ', e)\n",
    "    print('Office Address : ', d)\n",
    "    print('-'*30)\n",
    "    \n",
    "print_business_card('성호', 'aaa@aa.com', '서울')"
   ]
  },
  {
   "cell_type": "code",
   "execution_count": 4,
   "metadata": {},
   "outputs": [
    {
     "data": {
      "text/plain": [
       "1680"
      ]
     },
     "execution_count": 4,
     "metadata": {},
     "output_type": "execute_result"
    }
   ],
   "source": [
    "# 일반매개변수('sum', 'mul')와 가변매개변수를 받고,\n",
    "# 'sum'이면 가변매개변수의 함, 'mul'이면 가변매개변수의 곱을 구하라\n",
    "\n",
    "def sum_mul(sm, *n):\n",
    "    if sm == 'sum':\n",
    "        return sum(n)\n",
    "    elif sm == 'mul':\n",
    "        nmul = 1\n",
    "        for i in n:\n",
    "            nmul *= i\n",
    "        return nmul\n",
    "    \n",
    "sum_mul('mul', 5,6,7,8)"
   ]
  },
  {
   "cell_type": "code",
   "execution_count": 5,
   "metadata": {},
   "outputs": [
    {
     "name": "stdout",
     "output_type": "stream",
     "text": [
      "Good Morning! Everyone\n",
      "Good Morning! Mr.Park\n",
      "안녕하세요! Everyone\n",
      "안녕하세요! 김선생님\n"
     ]
    }
   ],
   "source": [
    "# 기본값이 있는 함수\n",
    "\n",
    "def report(hi, name = 'Everyone'):\n",
    "    print(hi, name)\n",
    "    \n",
    "report('Good Morning!')\n",
    "report('Good Morning!', 'Mr.Park')\n",
    "\n",
    "report('안녕하세요!')\n",
    "report('안녕하세요!', '김선생님')"
   ]
  },
  {
   "cell_type": "code",
   "execution_count": 6,
   "metadata": {},
   "outputs": [
    {
     "name": "stdout",
     "output_type": "stream",
     "text": [
      "[2, 4]\n",
      "[-12, 2, 48, 20]\n"
     ]
    }
   ],
   "source": [
    "# 가변매개변수로 값을 받아서 짝수만 출력하는 함수\n",
    "\n",
    "def select_even(*num):\n",
    "    L = []\n",
    "    for i in num:\n",
    "        if i % 2 == 0:\n",
    "            L.append(i)\n",
    "    return L\n",
    "\n",
    "print(select_even(1, 2, 3, 4))\n",
    "print(select_even(-12, 2, 81, 99, 48, 20))"
   ]
  },
  {
   "cell_type": "code",
   "execution_count": 7,
   "metadata": {},
   "outputs": [
    {
     "name": "stdout",
     "output_type": "stream",
     "text": [
      "Max : 10, Min : 2\n"
     ]
    }
   ],
   "source": [
    "# 가변 매개변수를 받고 최대값과 최소값을 출력하는 함수\n",
    "\n",
    "# def minmax(*N):\n",
    "#    L = [sorted(N)]\n",
    "#    print('Max : ' + L[len(L)-1] + ', Min : ' +  L[0])\n",
    "\n",
    "#def minmax(*N):\n",
    "#    nmax = nmin = N[0]\n",
    "#    for i in N:\n",
    "#        if i < nmax:\n",
    "#            nmax = i\n",
    "#        elif i > nmin:\n",
    "#            nmin = i\n",
    "#    print('Max : {}, Min : {}'.format(nmax, nmin))\n",
    "    \n",
    "def minmax(*N):\n",
    "    print('Max : {}, Min : {}'.format(max(N), min(N)))\n",
    "    \n",
    "minmax(2, 4, 3, 6, 4, 3, 6, 8, 10)"
   ]
  },
  {
   "cell_type": "code",
   "execution_count": 8,
   "metadata": {},
   "outputs": [
    {
     "name": "stdout",
     "output_type": "stream",
     "text": [
      "args_sum =  18\n",
      "kwvalues_sum =  60\n"
     ]
    }
   ],
   "source": [
    "# 가변매개변수와 kw매개변수를 받은 후 가변매개변수의 합과 kw매개변수의 합\n",
    "\n",
    "def varSum(*a, **kw):\n",
    "    asum = sum(a)\n",
    "    kwsum = sum(kw.values())\n",
    "    print('args_sum = ', asum)\n",
    "    print('kwvalues_sum = ', kwsum)\n",
    "    \n",
    "varSum(2, 3, 6, 4, 3, a=10, b=20, c=30)"
   ]
  },
  {
   "cell_type": "code",
   "execution_count": 9,
   "metadata": {},
   "outputs": [
    {
     "data": {
      "text/plain": [
       "[('b', 2), ('a', 3), ('c', 4)]"
      ]
     },
     "execution_count": 9,
     "metadata": {},
     "output_type": "execute_result"
    }
   ],
   "source": [
    "# kw매개변수를 받은 후 kw값 올림차순으로 정렬해서 리턴하는 함수\n",
    "\n",
    "def foo(**kw):\n",
    "    return sorted(kw.items(), key = lambda x:x[1])\n",
    "\n",
    "foo(a=3, b=2, c=4)"
   ]
  },
  {
   "cell_type": "code",
   "execution_count": 10,
   "metadata": {},
   "outputs": [],
   "source": [
    "# attribute(속성) - 반지름\n",
    "# method - init, 원의 넓이 구하기, 원의 둘레길이 구하기\n",
    "\n",
    "class circle:\n",
    "    def __init__(self, r):\n",
    "        self.r = r\n",
    "        \n",
    "    def area(self):\n",
    "        return pow(self.r, 2) * 3.14\n",
    "        \n",
    "    def perimeter(self):\n",
    "        return 2 * self.r * 3.14"
   ]
  },
  {
   "cell_type": "code",
   "execution_count": 11,
   "metadata": {},
   "outputs": [],
   "source": [
    "aa = circle(3)"
   ]
  },
  {
   "cell_type": "code",
   "execution_count": 12,
   "metadata": {},
   "outputs": [
    {
     "data": {
      "text/plain": [
       "28.26"
      ]
     },
     "execution_count": 12,
     "metadata": {},
     "output_type": "execute_result"
    }
   ],
   "source": [
    "aa.area()"
   ]
  },
  {
   "cell_type": "code",
   "execution_count": 13,
   "metadata": {},
   "outputs": [
    {
     "data": {
      "text/plain": [
       "18.84"
      ]
     },
     "execution_count": 13,
     "metadata": {},
     "output_type": "execute_result"
    }
   ],
   "source": [
    "aa.perimeter()"
   ]
  },
  {
   "cell_type": "code",
   "execution_count": 14,
   "metadata": {},
   "outputs": [],
   "source": [
    "# attribute(속성) - name, email, addr\n",
    "# method - init, setinfo, 명함인쇄하기(print_info)\n",
    "\n",
    "class BusinessCard:\n",
    "    def __init__(self, n, e, a):\n",
    "        self.n = n\n",
    "        self.e = e\n",
    "        self.a = a\n",
    "    def setinfo(self, n, e, a):\n",
    "        self.n = n\n",
    "        self.e = e\n",
    "        self.a = a\n",
    "    def print_info(self):\n",
    "        print('-'*30)\n",
    "        print(' Name : {}\\n E-mail : {}\\n Office_Address : {}'.format(self.n, self.e, self.a))\n",
    "        print('-'*30)"
   ]
  },
  {
   "cell_type": "code",
   "execution_count": 15,
   "metadata": {},
   "outputs": [],
   "source": [
    "bc = BusinessCard('Park', 'dd@ss.com', 'Seoul')"
   ]
  },
  {
   "cell_type": "code",
   "execution_count": 16,
   "metadata": {},
   "outputs": [
    {
     "name": "stdout",
     "output_type": "stream",
     "text": [
      "------------------------------\n",
      " Name : Park\n",
      " E-mail : dd@ss.com\n",
      " Office_Address : Seoul\n",
      "------------------------------\n"
     ]
    }
   ],
   "source": [
    "bc.print_info()"
   ]
  },
  {
   "cell_type": "code",
   "execution_count": 17,
   "metadata": {},
   "outputs": [],
   "source": [
    "# 사칙연산 클래스 구현\n",
    "# attribute(속성) - first, second\n",
    "# method - init, sum, mul, sub, div\n",
    "\n",
    "class Calculator:\n",
    "    def __init__(self, f, s):\n",
    "        self.f = f\n",
    "        self.s = s\n",
    "    def setinfo(self, f, s):\n",
    "        self.f = f\n",
    "        self.s = s\n",
    "    def sum(self):\n",
    "        return self.f + self.s\n",
    "    def mul(self):\n",
    "        return self.f * self.s\n",
    "    def sub(self):\n",
    "        return self.f - self.s\n",
    "    def div(self):\n",
    "        return self.f / self.s"
   ]
  },
  {
   "cell_type": "code",
   "execution_count": 18,
   "metadata": {},
   "outputs": [],
   "source": [
    "a = Calculator(93, 17)"
   ]
  },
  {
   "cell_type": "code",
   "execution_count": 19,
   "metadata": {},
   "outputs": [
    {
     "data": {
      "text/plain": [
       "110"
      ]
     },
     "execution_count": 19,
     "metadata": {},
     "output_type": "execute_result"
    }
   ],
   "source": [
    "a.sum()"
   ]
  },
  {
   "cell_type": "code",
   "execution_count": 20,
   "metadata": {},
   "outputs": [
    {
     "data": {
      "text/plain": [
       "1581"
      ]
     },
     "execution_count": 20,
     "metadata": {},
     "output_type": "execute_result"
    }
   ],
   "source": [
    "a.mul()"
   ]
  },
  {
   "cell_type": "code",
   "execution_count": 21,
   "metadata": {},
   "outputs": [
    {
     "data": {
      "text/plain": [
       "76"
      ]
     },
     "execution_count": 21,
     "metadata": {},
     "output_type": "execute_result"
    }
   ],
   "source": [
    "a.sub()"
   ]
  },
  {
   "cell_type": "code",
   "execution_count": 22,
   "metadata": {},
   "outputs": [
    {
     "data": {
      "text/plain": [
       "5.470588235294118"
      ]
     },
     "execution_count": 22,
     "metadata": {},
     "output_type": "execute_result"
    }
   ],
   "source": [
    "a.div()"
   ]
  },
  {
   "cell_type": "code",
   "execution_count": 23,
   "metadata": {},
   "outputs": [],
   "source": [
    "class powers(Calculator):\n",
    "    def po(self):\n",
    "        return pow(self.f, self.s)"
   ]
  },
  {
   "cell_type": "code",
   "execution_count": 24,
   "metadata": {},
   "outputs": [],
   "source": [
    "aa = powers(4,0)"
   ]
  },
  {
   "cell_type": "code",
   "execution_count": 25,
   "metadata": {},
   "outputs": [
    {
     "data": {
      "text/plain": [
       "1"
      ]
     },
     "execution_count": 25,
     "metadata": {},
     "output_type": "execute_result"
    }
   ],
   "source": [
    "aa.po()"
   ]
  },
  {
   "cell_type": "code",
   "execution_count": 26,
   "metadata": {},
   "outputs": [
    {
     "ename": "ZeroDivisionError",
     "evalue": "division by zero",
     "output_type": "error",
     "traceback": [
      "\u001b[1;31m---------------------------------------------------------------------------\u001b[0m",
      "\u001b[1;31mZeroDivisionError\u001b[0m                         Traceback (most recent call last)",
      "\u001b[1;32m<ipython-input-26-20bc6fad5966>\u001b[0m in \u001b[0;36m<module>\u001b[1;34m\u001b[0m\n\u001b[1;32m----> 1\u001b[1;33m \u001b[0maa\u001b[0m\u001b[1;33m.\u001b[0m\u001b[0mdiv\u001b[0m\u001b[1;33m(\u001b[0m\u001b[1;33m)\u001b[0m\u001b[1;33m\u001b[0m\u001b[1;33m\u001b[0m\u001b[0m\n\u001b[0m",
      "\u001b[1;32m<ipython-input-17-b0db0033e6cf>\u001b[0m in \u001b[0;36mdiv\u001b[1;34m(self)\u001b[0m\n\u001b[0;32m     17\u001b[0m         \u001b[1;32mreturn\u001b[0m \u001b[0mself\u001b[0m\u001b[1;33m.\u001b[0m\u001b[0mf\u001b[0m \u001b[1;33m-\u001b[0m \u001b[0mself\u001b[0m\u001b[1;33m.\u001b[0m\u001b[0ms\u001b[0m\u001b[1;33m\u001b[0m\u001b[1;33m\u001b[0m\u001b[0m\n\u001b[0;32m     18\u001b[0m     \u001b[1;32mdef\u001b[0m \u001b[0mdiv\u001b[0m\u001b[1;33m(\u001b[0m\u001b[0mself\u001b[0m\u001b[1;33m)\u001b[0m\u001b[1;33m:\u001b[0m\u001b[1;33m\u001b[0m\u001b[1;33m\u001b[0m\u001b[0m\n\u001b[1;32m---> 19\u001b[1;33m         \u001b[1;32mreturn\u001b[0m \u001b[0mself\u001b[0m\u001b[1;33m.\u001b[0m\u001b[0mf\u001b[0m \u001b[1;33m/\u001b[0m \u001b[0mself\u001b[0m\u001b[1;33m.\u001b[0m\u001b[0ms\u001b[0m\u001b[1;33m\u001b[0m\u001b[1;33m\u001b[0m\u001b[0m\n\u001b[0m",
      "\u001b[1;31mZeroDivisionError\u001b[0m: division by zero"
     ]
    }
   ],
   "source": [
    "aa.div()"
   ]
  },
  {
   "cell_type": "code",
   "execution_count": 27,
   "metadata": {},
   "outputs": [],
   "source": [
    "# Overriding - div() error\n",
    "\n",
    "class Safe_div(Calculator):\n",
    "    def div(self):\n",
    "        if self.s == 0:\n",
    "            return 0\n",
    "        else:\n",
    "            return self.f / self.s"
   ]
  },
  {
   "cell_type": "code",
   "execution_count": 28,
   "metadata": {},
   "outputs": [],
   "source": [
    "b = Safe_div(2, 0)"
   ]
  },
  {
   "cell_type": "code",
   "execution_count": 29,
   "metadata": {},
   "outputs": [
    {
     "data": {
      "text/plain": [
       "0"
      ]
     },
     "execution_count": 29,
     "metadata": {},
     "output_type": "execute_result"
    }
   ],
   "source": [
    "b.div()"
   ]
  },
  {
   "cell_type": "code",
   "execution_count": null,
   "metadata": {},
   "outputs": [],
   "source": []
  }
 ],
 "metadata": {
  "kernelspec": {
   "display_name": "Python 3",
   "language": "python",
   "name": "python3"
  },
  "language_info": {
   "codemirror_mode": {
    "name": "ipython",
    "version": 3
   },
   "file_extension": ".py",
   "mimetype": "text/x-python",
   "name": "python",
   "nbconvert_exporter": "python",
   "pygments_lexer": "ipython3",
   "version": "3.7.3"
  }
 },
 "nbformat": 4,
 "nbformat_minor": 2
}
