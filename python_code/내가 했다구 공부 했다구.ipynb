{
 "cells": [
  {
   "cell_type": "code",
   "execution_count": 4,
   "metadata": {},
   "outputs": [
    {
     "ename": "NameError",
     "evalue": "name 'peaple' is not defined",
     "output_type": "error",
     "traceback": [
      "\u001b[1;31m---------------------------------------------------------------------------\u001b[0m",
      "\u001b[1;31mNameError\u001b[0m                                 Traceback (most recent call last)",
      "\u001b[1;32m<ipython-input-4-5529f22d5dbe>\u001b[0m in \u001b[0;36m<module>\u001b[1;34m\u001b[0m\n\u001b[0;32m      2\u001b[0m \u001b[0mapple\u001b[0m \u001b[1;33m=\u001b[0m \u001b[1;36m20\u001b[0m\u001b[1;33m\u001b[0m\u001b[1;33m\u001b[0m\u001b[0m\n\u001b[0;32m      3\u001b[0m \u001b[1;33m\u001b[0m\u001b[0m\n\u001b[1;32m----> 4\u001b[1;33m \u001b[1;32mif\u001b[0m \u001b[0mpeaple\u001b[0m \u001b[1;33m<\u001b[0m \u001b[0mapple\u001b[0m \u001b[1;33m/\u001b[0m \u001b[1;36m5\u001b[0m\u001b[1;33m:\u001b[0m\u001b[1;33m\u001b[0m\u001b[1;33m\u001b[0m\u001b[0m\n\u001b[0m\u001b[0;32m      5\u001b[0m     \u001b[0mprint\u001b[0m\u001b[1;33m(\u001b[0m\u001b[1;34m'신나는 사과 파티! 배 터지게 먹자'\u001b[0m\u001b[1;33m)\u001b[0m\u001b[1;33m\u001b[0m\u001b[1;33m\u001b[0m\u001b[0m\n\u001b[0;32m      6\u001b[0m \u001b[1;33m\u001b[0m\u001b[0m\n",
      "\u001b[1;31mNameError\u001b[0m: name 'peaple' is not defined"
     ]
    }
   ],
   "source": [
    "people = 3\n",
    "apple = 20\n",
    "\n",
    "if peaple < apple / 5:\n",
    "    print('신나는 사과 파티! 배 터지게 먹자')\n",
    "\n",
    "if apple % people > 0:\n",
    "    print('사과 수가 맞지 않아! 몇 개는 쪼개 먹자!')\n",
    "if peaple> apple:\n",
    "    print('사람이 너무 많아! 몇 명은 못먹겠네...')"
   ]
  },
  {
   "cell_type": "code",
   "execution_count": 6,
   "metadata": {},
   "outputs": [
    {
     "name": "stdout",
     "output_type": "stream",
     "text": [
      "성적을 입력하시오:60\n",
      "수고하셨습니다\n"
     ]
    }
   ],
   "source": [
    "score = int(input('성적을 입력하시오:'))\n",
    "\n",
    "if score >= 70:\n",
    "    print('축하합니다')\n",
    "print('수고하셨습니다')"
   ]
  },
  {
   "cell_type": "code",
   "execution_count": 7,
   "metadata": {},
   "outputs": [
    {
     "name": "stdout",
     "output_type": "stream",
     "text": [
      "나이를 입력하시오:35\n",
      "너무 나이가 많습니다.\n",
      "이 반은 20세 미만의 학생들 반입니다.\n",
      "20세이상 반을 찾아 가기 바랍니다\n"
     ]
    }
   ],
   "source": [
    "age =int(input('나이를 입력하시오:'))\n",
    "if age >= 20:\n",
    "    print('너무 나이가 많습니다.')\n",
    "    print('이 반은 20세 미만의 학생들 반입니다.')\n",
    "    print('20세이상 반을 찾아 가기 바랍니다')"
   ]
  },
  {
   "cell_type": "code",
   "execution_count": 8,
   "metadata": {},
   "outputs": [
    {
     "name": "stdout",
     "output_type": "stream",
     "text": [
      "양의 정수를 입력하시오:54\n",
      "54 는 짝수입니다.\n",
      "프로그램 종료\n"
     ]
    }
   ],
   "source": [
    "number = int(input('양의 정수를 입력하시오:'))\n",
    "\n",
    "if number%2 == 0:\n",
    "    print(number, '는 짝수입니다.')\n",
    "else:\n",
    "    print(number, '는 홀수입니다.')\n",
    "print('프로그램 종료')"
   ]
  },
  {
   "cell_type": "code",
   "execution_count": 11,
   "metadata": {},
   "outputs": [
    {
     "name": "stdout",
     "output_type": "stream",
     "text": [
      "Enter a : 2\n",
      "Enter b : 9\n",
      "9\n"
     ]
    }
   ],
   "source": [
    "a = int(input('Enter a : '))\n",
    "b = int(input('Enter b : '))\n",
    "if a> b:\n",
    "    max = a\n",
    "else:\n",
    "    \n",
    "    max = b\n",
    "    \n",
    "print(max)"
   ]
  },
  {
   "cell_type": "code",
   "execution_count": 15,
   "metadata": {},
   "outputs": [
    {
     "name": "stdout",
     "output_type": "stream",
     "text": [
      "성적을 입력하세요78\n",
      "당신의 학점은 C입니다.\n"
     ]
    }
   ],
   "source": [
    "score = int(input('성적을 입력하세요'))\n",
    "if score >= 90:\n",
    "    print('당신의 학점은 A입니다')\n",
    "elif 90 > score >= 80:\n",
    "    print('당신의 학점은 B입니다.')\n",
    "elif 80> score >= 70:\n",
    "    print('당신의 학점은 C입니다.')\n",
    "else:\n",
    "    print('당신의 학점은 D입니다')\n",
    "    "
   ]
  },
  {
   "cell_type": "code",
   "execution_count": 23,
   "metadata": {},
   "outputs": [
    {
     "name": "stdout",
     "output_type": "stream",
     "text": [
      "x값을 입력하세요0\n",
      "0는 0입니다.\n"
     ]
    }
   ],
   "source": [
    "x = int(input('x값을 입력하세요'))\n",
    "if x > 0:\n",
    "    print('{}는 양수입니다.'.format(x))\n",
    "elif x == 0:\n",
    "    print('{}는 0입니다.'.format(x))\n",
    "else:\n",
    "    print('{}는 음수입니다.'.format(x))"
   ]
  },
  {
   "cell_type": "code",
   "execution_count": 26,
   "metadata": {},
   "outputs": [
    {
     "name": "stdout",
     "output_type": "stream",
     "text": [
      "난 이거 낼게  주먹\n",
      "넌 이거 내라  보\n",
      "졌습니다.\n"
     ]
    }
   ],
   "source": [
    "my = input('난 이거 낼게  ')\n",
    "your = input('넌 이거 내라  ')\n",
    "if my == your:\n",
    "    print('비겼습니다')\n",
    "if my =='가위':\n",
    "    if your == '바위':\n",
    "        print('졌습니다.')\n",
    "    else:\n",
    "        print('이겼닭')\n",
    "if my == '보':\n",
    "    if your == '가위':\n",
    "        print('졌습니다.')\n",
    "    else:\n",
    "        print('이겼닭')\n",
    "if my == '주먹':\n",
    "    if your == '보':\n",
    "        print('졌습니다.')\n",
    "    else:\n",
    "        print('이겼닭')\n",
    "    "
   ]
  },
  {
   "cell_type": "code",
   "execution_count": 31,
   "metadata": {},
   "outputs": [
    {
     "name": "stdout",
     "output_type": "stream",
     "text": [
      "이름을 입력하세요  Mary\n",
      "12\n"
     ]
    },
    {
     "data": {
      "text/plain": [
       "{'Mary': 12, 'Jane': 25, 'Tom': 20}"
      ]
     },
     "execution_count": 31,
     "metadata": {},
     "output_type": "execute_result"
    }
   ],
   "source": [
    "names = {'Mary': 12, 'Jane': 25, 'Tom': 20}\n",
    "\n",
    "name = input('이름을 입력하세요  ')\n",
    "\n",
    "if name in names:\n",
    "    print(names[name])\n",
    "else:\n",
    "    names[name] = '0000'\n",
    "    \n",
    "names"
   ]
  },
  {
   "cell_type": "code",
   "execution_count": null,
   "metadata": {},
   "outputs": [],
   "source": []
  }
 ],
 "metadata": {
  "kernelspec": {
   "display_name": "Python 3",
   "language": "python",
   "name": "python3"
  },
  "language_info": {
   "codemirror_mode": {
    "name": "ipython",
    "version": 3
   },
   "file_extension": ".py",
   "mimetype": "text/x-python",
   "name": "python",
   "nbconvert_exporter": "python",
   "pygments_lexer": "ipython3",
   "version": "3.7.3"
  }
 },
 "nbformat": 4,
 "nbformat_minor": 2
}
