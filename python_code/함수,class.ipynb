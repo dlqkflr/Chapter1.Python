{
 "cells": [
  {
   "cell_type": "code",
   "execution_count": 1,
   "metadata": {},
   "outputs": [
    {
     "data": {
      "text/plain": [
       "5"
      ]
     },
     "execution_count": 1,
     "metadata": {},
     "output_type": "execute_result"
    }
   ],
   "source": [
    "def abs(a):\n",
    "    if a < 0:\n",
    "        return -a\n",
    "    else:\n",
    "        return a\n",
    "\n",
    "abs(-5)"
   ]
  },
  {
   "cell_type": "code",
   "execution_count": 2,
   "metadata": {},
   "outputs": [
    {
     "data": {
      "text/plain": [
       "12.56"
      ]
     },
     "execution_count": 2,
     "metadata": {},
     "output_type": "execute_result"
    }
   ],
   "source": [
    "#반지름을 받아서 원의 면적을 리턴하는 함수\n",
    "def area(radius):\n",
    "    circle_area = 3.14*pow(radius,2)\n",
    "    return circle_area\n",
    "\n",
    "\n",
    "area(2)"
   ]
  },
  {
   "cell_type": "code",
   "execution_count": 3,
   "metadata": {},
   "outputs": [
    {
     "name": "stdout",
     "output_type": "stream",
     "text": [
      "**********\n",
      "Name :  성호\n",
      "E-mail :  aaa@aa.com\n",
      "officer :  서울\n",
      "**********\n"
     ]
    }
   ],
   "source": [
    "# 이름, 주소, 이메일을 받고 명함을 출력하는 함수\n",
    "\n",
    "def print_business_card(name,email,addr):\n",
    "    print('*'*10)\n",
    "    print('Name : ',name)\n",
    "    print('E-mail : ', email)\n",
    "    print('officer : ',addr)\n",
    "    print('*'*10)\n",
    "\n",
    "\n",
    "\n",
    "print_business_card('성호','aaa@aa.com','서울')"
   ]
  },
  {
   "cell_type": "code",
   "execution_count": 4,
   "metadata": {},
   "outputs": [
    {
     "data": {
      "text/plain": [
       "11"
      ]
     },
     "execution_count": 4,
     "metadata": {},
     "output_type": "execute_result"
    }
   ],
   "source": [
    "# 일반매개변수('sum','null')와 가변매개변수를 받고,\n",
    "# 'sum'이면 가변매개변수의 합, 'null'이면 가변매개변수의 곱을 \n",
    "\n",
    "def sum_mul(a,*args):\n",
    "    if a =='sum' :\n",
    "        return sum(args)\n",
    "    else :\n",
    "        result = 1\n",
    "        for i in args :\n",
    "            result *= i\n",
    "        return result\n",
    "    \n",
    "\n",
    "sum_mul('sum',5,6)"
   ]
  },
  {
   "cell_type": "code",
   "execution_count": 5,
   "metadata": {},
   "outputs": [
    {
     "name": "stdout",
     "output_type": "stream",
     "text": [
      "good moring Everyone\n",
      "good moring Mr.Park\n"
     ]
    }
   ],
   "source": [
    "# 기본값이 들어가 있는 함수\n",
    "def report(message, who='Everyone'):\n",
    "    print(message,who)\n",
    "\n",
    "report('good moring')\n",
    "report('good moring', 'Mr.Park')"
   ]
  },
  {
   "cell_type": "code",
   "execution_count": 6,
   "metadata": {},
   "outputs": [
    {
     "name": "stdout",
     "output_type": "stream",
     "text": [
      "[2, 4]\n",
      "[-12, 2, 48, 20]\n"
     ]
    }
   ],
   "source": [
    "# 가변매개변수로 값을 받아서 짝수만 출력하는 함수\n",
    "\n",
    "def select_even(*num):\n",
    "    t = []\n",
    "    for i in num:\n",
    "        if i % 2 == 0:\n",
    "            t.append(i)\n",
    "    return(t)\n",
    "\n",
    "\n",
    "print(select_even(1,2,3,4))\n",
    "print(select_even(-12,2,81,99,48,20))\n"
   ]
  },
  {
   "cell_type": "code",
   "execution_count": 7,
   "metadata": {},
   "outputs": [
    {
     "name": "stdout",
     "output_type": "stream",
     "text": [
      "Max :  10 nMin :  2\n"
     ]
    }
   ],
   "source": [
    "# 가변 매개변수를 받고 최대값과 최소값을 출력하는 함수\n",
    "\n",
    "def minmax(*k):\n",
    "    nMax = nMin = k[0]\n",
    "    for i in k:\n",
    "        if i > nMax:\n",
    "            nMax = i\n",
    "        elif i < nMin:\n",
    "            nMin = i\n",
    "    print('Max : ', nMax , 'nMin : ', nMin)\n",
    "\n",
    "\n",
    "minmax(2,4,5,6,4,3,6,8,10)"
   ]
  },
  {
   "cell_type": "code",
   "execution_count": 8,
   "metadata": {},
   "outputs": [
    {
     "name": "stdout",
     "output_type": "stream",
     "text": [
      "Max 10 Min 2\n"
     ]
    }
   ],
   "source": [
    "def minmax(*afr):\n",
    "    nmin = min(afr)\n",
    "    nmax = max(afr)\n",
    "    \n",
    "    print('Max', nmax , 'Min', nmin)\n",
    "\n",
    "minmax(2,4,5,6,4,3,6,8,10)\n"
   ]
  },
  {
   "cell_type": "code",
   "execution_count": 9,
   "metadata": {},
   "outputs": [
    {
     "name": "stdout",
     "output_type": "stream",
     "text": [
      "ab_sum =  18\n",
      "kwvalues_sum =  60\n"
     ]
    }
   ],
   "source": [
    "# 가변매개변수와 kw매개변수를 받은 후 가변매개변수의 합과\n",
    "\n",
    "def varSum(*ab,**kw):\n",
    "    ab_sum = sum(ab)\n",
    "    kwvalues_sum = sum(kw.values())\n",
    "    print('ab_sum = ', ab_sum)\n",
    "    print('kwvalues_sum = ', kwvalues_sum)\n",
    "    \n",
    "    \n",
    "    \n",
    "varSum(2,3,6,4,3,a=10,b=20,c=30)"
   ]
  },
  {
   "cell_type": "code",
   "execution_count": 10,
   "metadata": {},
   "outputs": [
    {
     "name": "stdout",
     "output_type": "stream",
     "text": [
      "ab_sum 18 kw_sum 10\n",
      "ab_sum 18 kw_sum 30\n",
      "ab_sum 18 kw_sum 60\n"
     ]
    }
   ],
   "source": [
    "def varSum(*ab,**kw):\n",
    "    ab_sum = sum(ab)\n",
    "    kw_sum = 0\n",
    "    for i in kw.values():\n",
    "        kw_sum += i\n",
    "\n",
    "        print('ab_sum' , ab_sum, 'kw_sum', kw_sum)    \n",
    "\n",
    "    \n",
    "varSum(2,3,6,4,3,a=10,b=20,c=30)"
   ]
  },
  {
   "cell_type": "code",
   "execution_count": 11,
   "metadata": {},
   "outputs": [
    {
     "data": {
      "text/plain": [
       "[('b', 2), ('a', 3), ('c', 4)]"
      ]
     },
     "execution_count": 11,
     "metadata": {},
     "output_type": "execute_result"
    }
   ],
   "source": [
    "# kw 매개변수를 받은 후 kw 값 올림차순으로 정렬해서 리턴하는 함수\n",
    "\n",
    "def foo(**kw):\n",
    "    return(sorted(kw.items(),key=lambda x:x[1]))\n",
    "    \n",
    "    \n",
    "    \n",
    "foo()\n",
    "\n",
    "foo(a=3,b=2,c=4)"
   ]
  },
  {
   "cell_type": "markdown",
   "metadata": {},
   "source": [
    "# Class"
   ]
  },
  {
   "cell_type": "code",
   "execution_count": 12,
   "metadata": {},
   "outputs": [],
   "source": [
    "# attribute(속성) - 반지름\n",
    "# method -init, 원의 넓이 구하기, 원의 둘레길이 구하기\n",
    "\n",
    "class circle :\n",
    "    def __init__(self,miiin):\n",
    "        self.miiin = miiin\n",
    "    def area(self):\n",
    "        return(3.14*pow(self.miiin,2))\n",
    "    def perimeter(self):\n",
    "        print(self.miiin *3.14*2)\n",
    "    "
   ]
  },
  {
   "cell_type": "code",
   "execution_count": 13,
   "metadata": {},
   "outputs": [],
   "source": [
    "aa = circle(3)"
   ]
  },
  {
   "cell_type": "code",
   "execution_count": 14,
   "metadata": {},
   "outputs": [
    {
     "data": {
      "text/plain": [
       "28.26"
      ]
     },
     "execution_count": 14,
     "metadata": {},
     "output_type": "execute_result"
    }
   ],
   "source": [
    "aa.area()"
   ]
  },
  {
   "cell_type": "code",
   "execution_count": 15,
   "metadata": {},
   "outputs": [
    {
     "name": "stdout",
     "output_type": "stream",
     "text": [
      "18.84\n"
     ]
    }
   ],
   "source": [
    "aa.perimeter()"
   ]
  },
  {
   "cell_type": "code",
   "execution_count": 16,
   "metadata": {},
   "outputs": [],
   "source": [
    "# attribute(속성) - name , email, addr\n",
    "#method -init , setinfo , 명함 인쇄하기(print_info)\n",
    "\n",
    "class Biz_card:\n",
    "    def __init__(self,name,email,addr):\n",
    "        self.name = name\n",
    "        self.email = email\n",
    "        self.addr = addr\n",
    "    def setinfo(self,name,email,addr):\n",
    "        self.name = name\n",
    "        self.email = email\n",
    "        self.addr = addr\n",
    "    def print_info(self):\n",
    "        print('-'*10)\n",
    "        print('name = ',self.name)\n",
    "        print('email = ',self.email)\n",
    "        print('addr = ' ,self.addr)\n",
    "        print('-'*10)\n",
    "        \n",
    "bc = Biz_card('han','222@naver.com','서울')"
   ]
  },
  {
   "cell_type": "code",
   "execution_count": 17,
   "metadata": {},
   "outputs": [
    {
     "name": "stdout",
     "output_type": "stream",
     "text": [
      "----------\n",
      "name =  han\n",
      "email =  222@naver.com\n",
      "addr =  서울\n",
      "----------\n"
     ]
    }
   ],
   "source": [
    "bc.print_info()"
   ]
  },
  {
   "cell_type": "code",
   "execution_count": 18,
   "metadata": {},
   "outputs": [],
   "source": [
    "# 사칙연산 클래스 구현\n",
    "# attribute(속성) - first ,second\n",
    "# method - init , sum, mul, sub , div\n",
    "\n",
    "class cal:\n",
    "    def __init__(self, first, second):\n",
    "        self.first = first\n",
    "        self.second = second\n",
    "    def setinfo(self, first, second):\n",
    "        self.first = first\n",
    "        self.second = second\n",
    "    def sum(self):\n",
    "        return(self.first + self.second)\n",
    "    def mul(self):\n",
    "        return(self.first * self.second)\n",
    "    def sub(self):\n",
    "        return(self.first - self.second)\n",
    "    def div(self):\n",
    "        return(self.first / self.second)\n",
    "\n",
    "tt = cal(2,4)\n"
   ]
  },
  {
   "cell_type": "code",
   "execution_count": 19,
   "metadata": {},
   "outputs": [
    {
     "data": {
      "text/plain": [
       "6"
      ]
     },
     "execution_count": 19,
     "metadata": {},
     "output_type": "execute_result"
    }
   ],
   "source": [
    "tt.sum()"
   ]
  },
  {
   "cell_type": "code",
   "execution_count": 20,
   "metadata": {},
   "outputs": [
    {
     "data": {
      "text/plain": [
       "8"
      ]
     },
     "execution_count": 20,
     "metadata": {},
     "output_type": "execute_result"
    }
   ],
   "source": [
    "tt.mul()"
   ]
  },
  {
   "cell_type": "code",
   "execution_count": 21,
   "metadata": {},
   "outputs": [
    {
     "data": {
      "text/plain": [
       "-2"
      ]
     },
     "execution_count": 21,
     "metadata": {},
     "output_type": "execute_result"
    }
   ],
   "source": [
    "tt.sub()"
   ]
  },
  {
   "cell_type": "code",
   "execution_count": 22,
   "metadata": {},
   "outputs": [
    {
     "data": {
      "text/plain": [
       "0.5"
      ]
     },
     "execution_count": 22,
     "metadata": {},
     "output_type": "execute_result"
    }
   ],
   "source": [
    "tt.div()"
   ]
  },
  {
   "cell_type": "code",
   "execution_count": 25,
   "metadata": {},
   "outputs": [],
   "source": [
    "# 상속 - 지수승 메서드 증가\n",
    "\n",
    "class Fivecall(cal):\n",
    "    def pow(self):\n",
    "        return (pow(self.first,self.second))\n",
    "\n",
    "a = Fivecall(3,0)"
   ]
  },
  {
   "cell_type": "code",
   "execution_count": 26,
   "metadata": {},
   "outputs": [
    {
     "ename": "ZeroDivisionError",
     "evalue": "division by zero",
     "output_type": "error",
     "traceback": [
      "\u001b[1;31m---------------------------------------------------------------------------\u001b[0m",
      "\u001b[1;31mZeroDivisionError\u001b[0m                         Traceback (most recent call last)",
      "\u001b[1;32m<ipython-input-26-656340726662>\u001b[0m in \u001b[0;36m<module>\u001b[1;34m\u001b[0m\n\u001b[1;32m----> 1\u001b[1;33m \u001b[0ma\u001b[0m\u001b[1;33m.\u001b[0m\u001b[0mdiv\u001b[0m\u001b[1;33m(\u001b[0m\u001b[1;33m)\u001b[0m\u001b[1;33m\u001b[0m\u001b[1;33m\u001b[0m\u001b[0m\n\u001b[0m",
      "\u001b[1;32m<ipython-input-18-01acb7848807>\u001b[0m in \u001b[0;36mdiv\u001b[1;34m(self)\u001b[0m\n\u001b[0;32m     17\u001b[0m         \u001b[1;32mreturn\u001b[0m\u001b[1;33m(\u001b[0m\u001b[0mself\u001b[0m\u001b[1;33m.\u001b[0m\u001b[0mfirst\u001b[0m \u001b[1;33m-\u001b[0m \u001b[0mself\u001b[0m\u001b[1;33m.\u001b[0m\u001b[0msecond\u001b[0m\u001b[1;33m)\u001b[0m\u001b[1;33m\u001b[0m\u001b[1;33m\u001b[0m\u001b[0m\n\u001b[0;32m     18\u001b[0m     \u001b[1;32mdef\u001b[0m \u001b[0mdiv\u001b[0m\u001b[1;33m(\u001b[0m\u001b[0mself\u001b[0m\u001b[1;33m)\u001b[0m\u001b[1;33m:\u001b[0m\u001b[1;33m\u001b[0m\u001b[1;33m\u001b[0m\u001b[0m\n\u001b[1;32m---> 19\u001b[1;33m         \u001b[1;32mreturn\u001b[0m\u001b[1;33m(\u001b[0m\u001b[0mself\u001b[0m\u001b[1;33m.\u001b[0m\u001b[0mfirst\u001b[0m \u001b[1;33m/\u001b[0m \u001b[0mself\u001b[0m\u001b[1;33m.\u001b[0m\u001b[0msecond\u001b[0m\u001b[1;33m)\u001b[0m\u001b[1;33m\u001b[0m\u001b[1;33m\u001b[0m\u001b[0m\n\u001b[0m\u001b[0;32m     20\u001b[0m \u001b[1;33m\u001b[0m\u001b[0m\n\u001b[0;32m     21\u001b[0m \u001b[0mtt\u001b[0m \u001b[1;33m=\u001b[0m \u001b[0mcal\u001b[0m\u001b[1;33m(\u001b[0m\u001b[1;36m2\u001b[0m\u001b[1;33m,\u001b[0m\u001b[1;36m4\u001b[0m\u001b[1;33m)\u001b[0m\u001b[1;33m\u001b[0m\u001b[1;33m\u001b[0m\u001b[0m\n",
      "\u001b[1;31mZeroDivisionError\u001b[0m: division by zero"
     ]
    }
   ],
   "source": [
    "a.div()"
   ]
  },
  {
   "cell_type": "code",
   "execution_count": null,
   "metadata": {},
   "outputs": [],
   "source": [
    "a.pow()"
   ]
  },
  {
   "cell_type": "code",
   "execution_count": 27,
   "metadata": {},
   "outputs": [],
   "source": [
    "# 오류 안나게 하는 거 \n",
    "\n",
    "class SafeFiveCal(cal):\n",
    "    def div(self):\n",
    "        if self.second == 0:\n",
    "            return 0\n",
    "        else:\n",
    "            return(self.first/self.second)"
   ]
  },
  {
   "cell_type": "code",
   "execution_count": 28,
   "metadata": {},
   "outputs": [],
   "source": [
    "aa = SafeFiveCal(2,0)"
   ]
  },
  {
   "cell_type": "code",
   "execution_count": 29,
   "metadata": {},
   "outputs": [
    {
     "data": {
      "text/plain": [
       "0"
      ]
     },
     "execution_count": 29,
     "metadata": {},
     "output_type": "execute_result"
    }
   ],
   "source": [
    "aa.div()"
   ]
  },
  {
   "cell_type": "code",
   "execution_count": 30,
   "metadata": {},
   "outputs": [],
   "source": [
    "class Fivecal(cal):\n",
    "    def pow(self):\n",
    "        return(pow(self.first, self.second))"
   ]
  },
  {
   "cell_type": "code",
   "execution_count": 31,
   "metadata": {},
   "outputs": [],
   "source": [
    "a = Fivecal(2,4)"
   ]
  },
  {
   "cell_type": "code",
   "execution_count": 32,
   "metadata": {},
   "outputs": [
    {
     "data": {
      "text/plain": [
       "16"
      ]
     },
     "execution_count": 32,
     "metadata": {},
     "output_type": "execute_result"
    }
   ],
   "source": [
    "a.pow()"
   ]
  },
  {
   "cell_type": "code",
   "execution_count": null,
   "metadata": {},
   "outputs": [],
   "source": []
  }
 ],
 "metadata": {
  "kernelspec": {
   "display_name": "Python 3",
   "language": "python",
   "name": "python3"
  },
  "language_info": {
   "codemirror_mode": {
    "name": "ipython",
    "version": 3
   },
   "file_extension": ".py",
   "mimetype": "text/x-python",
   "name": "python",
   "nbconvert_exporter": "python",
   "pygments_lexer": "ipython3",
   "version": "3.7.3"
  }
 },
 "nbformat": 4,
 "nbformat_minor": 2
}
