{
 "cells": [
  {
   "cell_type": "markdown",
   "metadata": {},
   "source": [
    "## Function_Sample_Code"
   ]
  },
  {
   "cell_type": "code",
   "execution_count": 4,
   "metadata": {},
   "outputs": [
    {
     "data": {
      "text/plain": [
       "5"
      ]
     },
     "execution_count": 4,
     "metadata": {},
     "output_type": "execute_result"
    }
   ],
   "source": [
    "# 절대값을 리턴하는 함수\n",
    "\n",
    "    \n",
    "abs(-5)        "
   ]
  },
  {
   "cell_type": "code",
   "execution_count": 2,
   "metadata": {},
   "outputs": [
    {
     "data": {
      "text/plain": [
       "12.56"
      ]
     },
     "execution_count": 2,
     "metadata": {},
     "output_type": "execute_result"
    }
   ],
   "source": [
    "# 반지름을 받아서 원의 면적을 리턴하는 함수\n",
    "\n",
    "area(2)"
   ]
  },
  {
   "cell_type": "code",
   "execution_count": 3,
   "metadata": {},
   "outputs": [
    {
     "name": "stdout",
     "output_type": "stream",
     "text": [
      "-------------------------\n",
      "Name: 성호\n",
      "E-mail: aaa@aa.com\n",
      "Office Address: 서울\n",
      "-------------------------\n"
     ]
    }
   ],
   "source": [
    "# 이름, 주소, 이메일을 받고 명함을 출력하는 함수\n",
    "\n",
    "\n",
    "\n",
    "print_business_card('성호', 'aaa@aa.com', '서울')"
   ]
  },
  {
   "cell_type": "code",
   "execution_count": 6,
   "metadata": {},
   "outputs": [
    {
     "data": {
      "text/plain": [
       "11"
      ]
     },
     "execution_count": 6,
     "metadata": {},
     "output_type": "execute_result"
    }
   ],
   "source": [
    "# 일반매개변수('sum', 'mul')와 가변매개변수를 받고, 'sum'이면 가변매개변수의 합, 'mul'이면 가변매개변수의 곱을 리턴\n",
    "\n",
    "\n",
    "\n",
    "sum_mul('sum', 5,6)"
   ]
  },
  {
   "cell_type": "code",
   "execution_count": 1,
   "metadata": {},
   "outputs": [
    {
     "name": "stdout",
     "output_type": "stream",
     "text": [
      "25\n",
      "대한민국~만세!!\n"
     ]
    }
   ],
   "source": [
    "\n",
    " \n",
    "ans = add_number(10, 15)\n",
    "print(ans)                   # 25가 출력됨\n",
    "text1 = '대한민국~'\n",
    "text2 ='만세!!'\n",
    "add_txt(text1, text2)         # ‘대한민국~만세!!’가 출력됨\n"
   ]
  },
  {
   "cell_type": "code",
   "execution_count": 1,
   "metadata": {},
   "outputs": [
    {
     "name": "stdout",
     "output_type": "stream",
     "text": [
      "베스트 : 파이썬\n",
      "1등 : 대한민국\n",
      "()\n",
      "(3, 5, 1, 5)\n",
      "{}\n",
      "{'depth': 50, 'color': 'blue'}\n"
     ]
    }
   ],
   "source": [
    "\n",
    "add_txt('베스트')                   # ‘베스트 : 파이썬’이 출력됨\n",
    "add_txt(t2='대한민국', t1='1등')    # ‘1등 : 대한민국’이 출력됨\n",
    "\n",
    "func1()                          # 빈 튜플 ( ) 이 출력됨\n",
    "func1(3, 5, 1, 5)                  # (3, 5, 1, 5)가 출력됨\n",
    "func2(10, 20)                          # 빈 사전 { }이 출력됨\n",
    "func2(10, 20, depth=50, color='blue')  #{‘depth’:50, ‘color’:’blue’} 이 출력됨"
   ]
  },
  {
   "cell_type": "code",
   "execution_count": 1,
   "metadata": {},
   "outputs": [
    {
     "name": "stdout",
     "output_type": "stream",
     "text": [
      "good morning Everyone\n",
      "good morning Mr. Park\n",
      "안녕하세요 Everyone\n",
      "안녕하세요 김선생님\n"
     ]
    }
   ],
   "source": [
    "# 기본값이 있는 함수\n",
    "\n",
    "report('good morning')\n",
    "report('good morning', 'Mr. Park')\n",
    "\n",
    "\n",
    "report('안녕하세요')\n",
    "report('안녕하세요', '김선생님')\n"
   ]
  },
  {
   "cell_type": "code",
   "execution_count": 18,
   "metadata": {},
   "outputs": [
    {
     "name": "stdout",
     "output_type": "stream",
     "text": [
      "[2, 4]\n",
      "[-12, 2, 48, 20]\n"
     ]
    }
   ],
   "source": [
    "# 가변매개변수로 값를 받아서 짝수만 출력하는 함수\n",
    "\n",
    "print(select_even(1,2,3,4))\n",
    "print(select_even(-12, 2, 81, 99, 48, 20))\n"
   ]
  },
  {
   "cell_type": "code",
   "execution_count": 24,
   "metadata": {},
   "outputs": [
    {
     "name": "stdout",
     "output_type": "stream",
     "text": [
      "Max : 10, Min : 2\n"
     ]
    }
   ],
   "source": [
    "# 가변 매개변수를 받고 최대값과 최소값을 출력하는 함수\n",
    "\n",
    "minmax(2,4,3,6,4,3,6,8,10)\n",
    "\n",
    "# 최대값과 최소값을 출력하는"
   ]
  },
  {
   "cell_type": "code",
   "execution_count": 2,
   "metadata": {},
   "outputs": [
    {
     "name": "stdout",
     "output_type": "stream",
     "text": [
      "args_sum =  18\n",
      "kwvalues_sum= 60\n"
     ]
    }
   ],
   "source": [
    "# 가변 매개변수와 kw매개변수를 받은 후 가변매개변수의 합과 kw매개변수의 합을 출력하는 함수\n",
    "    \n",
    "\n",
    "    \n",
    "varSum(2,3,6,4,3,a=10, b=20, c=30)\n"
   ]
  },
  {
   "cell_type": "code",
   "execution_count": 3,
   "metadata": {},
   "outputs": [
    {
     "name": "stdout",
     "output_type": "stream",
     "text": [
      "[('b', 2), ('a', 3), ('c', 4)]\n"
     ]
    }
   ],
   "source": [
    "# kw 매개변수를 받은 후 kw 값 올림차순으로 정렬해서 리턴하는 함수\n",
    "        \n",
    "foo3(a=3, b=2, c=4)"
   ]
  },
  {
   "cell_type": "code",
   "execution_count": null,
   "metadata": {},
   "outputs": [],
   "source": []
  }
 ],
 "metadata": {
  "kernelspec": {
   "display_name": "Python 3",
   "language": "python",
   "name": "python3"
  },
  "language_info": {
   "codemirror_mode": {
    "name": "ipython",
    "version": 3
   },
   "file_extension": ".py",
   "mimetype": "text/x-python",
   "name": "python",
   "nbconvert_exporter": "python",
   "pygments_lexer": "ipython3",
   "version": "3.7.3"
  }
 },
 "nbformat": 4,
 "nbformat_minor": 2
}
